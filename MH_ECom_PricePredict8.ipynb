{
  "nbformat": 4,
  "nbformat_minor": 0,
  "metadata": {
    "colab": {
      "name": "MH_ECom_PricePredict8.ipynb",
      "provenance": [],
      "collapsed_sections": []
    },
    "kernelspec": {
      "name": "python3",
      "display_name": "Python 3"
    },
    "accelerator": "GPU"
  },
  "cells": [
    {
      "cell_type": "code",
      "metadata": {
        "id": "ehVSav7ugsC0",
        "colab_type": "code",
        "colab": {
          "base_uri": "https://localhost:8080/",
          "height": 121
        },
        "outputId": "f6130f53-7acb-427a-d2f9-d4fa24081392"
      },
      "source": [
        "from google.colab import drive\n",
        "drive.mount('/content/drive')"
      ],
      "execution_count": null,
      "outputs": [
        {
          "output_type": "stream",
          "text": [
            "Go to this URL in a browser: https://accounts.google.com/o/oauth2/auth?client_id=947318989803-6bn6qk8qdgf4n4g3pfee6491hc0brc4i.apps.googleusercontent.com&redirect_uri=urn%3aietf%3awg%3aoauth%3a2.0%3aoob&response_type=code&scope=email%20https%3a%2f%2fwww.googleapis.com%2fauth%2fdocs.test%20https%3a%2f%2fwww.googleapis.com%2fauth%2fdrive%20https%3a%2f%2fwww.googleapis.com%2fauth%2fdrive.photos.readonly%20https%3a%2f%2fwww.googleapis.com%2fauth%2fpeopleapi.readonly\n",
            "\n",
            "Enter your authorization code:\n",
            "··········\n",
            "Mounted at /content/drive\n"
          ],
          "name": "stdout"
        }
      ]
    },
    {
      "cell_type": "code",
      "metadata": {
        "id": "PZzTg1pshBmx",
        "colab_type": "code",
        "colab": {
          "base_uri": "https://localhost:8080/",
          "height": 70
        },
        "outputId": "202be3c9-c68b-415f-fd4c-c63746d76518"
      },
      "source": [
        "import pandas as pd\n",
        "import numpy as np\n",
        "from sklearn.preprocessing import LabelEncoder\n",
        "import datetime\n",
        "import seaborn as sns\n",
        "import tensorflow as tf\n",
        "import matplotlib.pyplot as plt\n",
        "%matplotlib inline \n",
        "#import the required Modules\n",
        "import warnings\n",
        "warnings.filterwarnings('ignore')\n",
        "# Data visualization\n",
        "import seaborn as sns\n",
        "pd.set_option('display.max_columns', None)\n",
        "pd.set_option('display.max_rows', None)\n",
        "from sklearn.model_selection import StratifiedKFold\n",
        "from sklearn.model_selection import KFold\n",
        "from sklearn.ensemble import RandomForestClassifier\n",
        "from sklearn.linear_model import LogisticRegressionCV\n",
        "import sklearn\n",
        "import lightgbm as lgb"
      ],
      "execution_count": null,
      "outputs": [
        {
          "output_type": "stream",
          "text": [
            "/usr/local/lib/python3.6/dist-packages/statsmodels/tools/_testing.py:19: FutureWarning: pandas.util.testing is deprecated. Use the functions in the public API at pandas.testing instead.\n",
            "  import pandas.util.testing as tm\n"
          ],
          "name": "stderr"
        }
      ]
    },
    {
      "cell_type": "code",
      "metadata": {
        "id": "LZWgER8Ahbqc",
        "colab_type": "code",
        "colab": {}
      },
      "source": [
        "datapath ='/content/drive/My Drive/MachineHack_8_PartsData/'"
      ],
      "execution_count": null,
      "outputs": []
    },
    {
      "cell_type": "code",
      "metadata": {
        "id": "oChmQN1thc0n",
        "colab_type": "code",
        "colab": {
          "base_uri": "https://localhost:8080/",
          "height": 67
        },
        "outputId": "8a048736-e43c-4070-d614-38c470211cb3"
      },
      "source": [
        "filename1 = 'Train.csv'\n",
        "filename2 = 'Test.csv'\n",
        "filename3 = 'Sample_Submission.xlsx'\n",
        "sep = ','\n",
        "train = pd.read_csv(datapath+filename1,index_col=None,sep=sep,parse_dates=['Date'])\n",
        "test = pd.read_csv(datapath+filename2,index_col=None,sep=sep,parse_dates=['Date'])\n",
        "final_submission = pd.read_excel(datapath+filename3,index_col=None)\n",
        "print(train.shape)\n",
        "print(test.shape)\n",
        "print(final_submission.shape)"
      ],
      "execution_count": null,
      "outputs": [
        {
          "output_type": "stream",
          "text": [
            "(2452, 8)\n",
            "(1051, 7)\n",
            "(1051, 1)\n"
          ],
          "name": "stdout"
        }
      ]
    },
    {
      "cell_type": "code",
      "metadata": {
        "id": "drE4t980hc5J",
        "colab_type": "code",
        "colab": {
          "base_uri": "https://localhost:8080/",
          "height": 195
        },
        "outputId": "ef85e70a-925e-48bc-c520-4f74b8a044a1"
      },
      "source": [
        "train.head()"
      ],
      "execution_count": null,
      "outputs": [
        {
          "output_type": "execute_result",
          "data": {
            "text/html": [
              "<div>\n",
              "<style scoped>\n",
              "    .dataframe tbody tr th:only-of-type {\n",
              "        vertical-align: middle;\n",
              "    }\n",
              "\n",
              "    .dataframe tbody tr th {\n",
              "        vertical-align: top;\n",
              "    }\n",
              "\n",
              "    .dataframe thead th {\n",
              "        text-align: right;\n",
              "    }\n",
              "</style>\n",
              "<table border=\"1\" class=\"dataframe\">\n",
              "  <thead>\n",
              "    <tr style=\"text-align: right;\">\n",
              "      <th></th>\n",
              "      <th>Product</th>\n",
              "      <th>Product_Brand</th>\n",
              "      <th>Item_Category</th>\n",
              "      <th>Subcategory_1</th>\n",
              "      <th>Subcategory_2</th>\n",
              "      <th>Item_Rating</th>\n",
              "      <th>Date</th>\n",
              "      <th>Selling_Price</th>\n",
              "    </tr>\n",
              "  </thead>\n",
              "  <tbody>\n",
              "    <tr>\n",
              "      <th>0</th>\n",
              "      <td>P-2610</td>\n",
              "      <td>B-659</td>\n",
              "      <td>bags wallets belts</td>\n",
              "      <td>bags</td>\n",
              "      <td>hand bags</td>\n",
              "      <td>4.3</td>\n",
              "      <td>2017-02-03</td>\n",
              "      <td>291.0</td>\n",
              "    </tr>\n",
              "    <tr>\n",
              "      <th>1</th>\n",
              "      <td>P-2453</td>\n",
              "      <td>B-3078</td>\n",
              "      <td>clothing</td>\n",
              "      <td>women s clothing</td>\n",
              "      <td>western wear</td>\n",
              "      <td>3.1</td>\n",
              "      <td>2015-07-01</td>\n",
              "      <td>897.0</td>\n",
              "    </tr>\n",
              "    <tr>\n",
              "      <th>2</th>\n",
              "      <td>P-6802</td>\n",
              "      <td>B-1810</td>\n",
              "      <td>home decor festive needs</td>\n",
              "      <td>showpieces</td>\n",
              "      <td>ethnic</td>\n",
              "      <td>3.5</td>\n",
              "      <td>2019-01-12</td>\n",
              "      <td>792.0</td>\n",
              "    </tr>\n",
              "    <tr>\n",
              "      <th>3</th>\n",
              "      <td>P-4452</td>\n",
              "      <td>B-3078</td>\n",
              "      <td>beauty and personal care</td>\n",
              "      <td>eye care</td>\n",
              "      <td>h2o plus eye care</td>\n",
              "      <td>4.0</td>\n",
              "      <td>2014-12-12</td>\n",
              "      <td>837.0</td>\n",
              "    </tr>\n",
              "    <tr>\n",
              "      <th>4</th>\n",
              "      <td>P-8454</td>\n",
              "      <td>B-3078</td>\n",
              "      <td>clothing</td>\n",
              "      <td>men s clothing</td>\n",
              "      <td>t shirts</td>\n",
              "      <td>4.3</td>\n",
              "      <td>2013-12-12</td>\n",
              "      <td>470.0</td>\n",
              "    </tr>\n",
              "  </tbody>\n",
              "</table>\n",
              "</div>"
            ],
            "text/plain": [
              "  Product Product_Brand             Item_Category     Subcategory_1  \\\n",
              "0  P-2610         B-659        bags wallets belts              bags   \n",
              "1  P-2453        B-3078                  clothing  women s clothing   \n",
              "2  P-6802        B-1810  home decor festive needs        showpieces   \n",
              "3  P-4452        B-3078  beauty and personal care          eye care   \n",
              "4  P-8454        B-3078                  clothing    men s clothing   \n",
              "\n",
              "       Subcategory_2  Item_Rating       Date  Selling_Price  \n",
              "0          hand bags          4.3 2017-02-03          291.0  \n",
              "1       western wear          3.1 2015-07-01          897.0  \n",
              "2             ethnic          3.5 2019-01-12          792.0  \n",
              "3  h2o plus eye care          4.0 2014-12-12          837.0  \n",
              "4           t shirts          4.3 2013-12-12          470.0  "
            ]
          },
          "metadata": {
            "tags": []
          },
          "execution_count": 5
        }
      ]
    },
    {
      "cell_type": "code",
      "metadata": {
        "id": "0ZO5QUjjhc8Z",
        "colab_type": "code",
        "colab": {
          "base_uri": "https://localhost:8080/",
          "height": 195
        },
        "outputId": "d5a200ab-f3c1-42a9-fc09-afa8f09e0675"
      },
      "source": [
        "test.head()"
      ],
      "execution_count": null,
      "outputs": [
        {
          "output_type": "execute_result",
          "data": {
            "text/html": [
              "<div>\n",
              "<style scoped>\n",
              "    .dataframe tbody tr th:only-of-type {\n",
              "        vertical-align: middle;\n",
              "    }\n",
              "\n",
              "    .dataframe tbody tr th {\n",
              "        vertical-align: top;\n",
              "    }\n",
              "\n",
              "    .dataframe thead th {\n",
              "        text-align: right;\n",
              "    }\n",
              "</style>\n",
              "<table border=\"1\" class=\"dataframe\">\n",
              "  <thead>\n",
              "    <tr style=\"text-align: right;\">\n",
              "      <th></th>\n",
              "      <th>Product</th>\n",
              "      <th>Product_Brand</th>\n",
              "      <th>Item_Category</th>\n",
              "      <th>Subcategory_1</th>\n",
              "      <th>Subcategory_2</th>\n",
              "      <th>Item_Rating</th>\n",
              "      <th>Date</th>\n",
              "    </tr>\n",
              "  </thead>\n",
              "  <tbody>\n",
              "    <tr>\n",
              "      <th>0</th>\n",
              "      <td>P-11284</td>\n",
              "      <td>B-2984</td>\n",
              "      <td>computers</td>\n",
              "      <td>network components</td>\n",
              "      <td>routers</td>\n",
              "      <td>4.3</td>\n",
              "      <td>2018-01-12</td>\n",
              "    </tr>\n",
              "    <tr>\n",
              "      <th>1</th>\n",
              "      <td>P-6580</td>\n",
              "      <td>B-1732</td>\n",
              "      <td>jewellery</td>\n",
              "      <td>bangles bracelets armlets</td>\n",
              "      <td>bracelets</td>\n",
              "      <td>3.0</td>\n",
              "      <td>2012-12-20</td>\n",
              "    </tr>\n",
              "    <tr>\n",
              "      <th>2</th>\n",
              "      <td>P-5843</td>\n",
              "      <td>B-3078</td>\n",
              "      <td>clothing</td>\n",
              "      <td>women s clothing</td>\n",
              "      <td>western wear</td>\n",
              "      <td>1.5</td>\n",
              "      <td>2014-01-12</td>\n",
              "    </tr>\n",
              "    <tr>\n",
              "      <th>3</th>\n",
              "      <td>P-5334</td>\n",
              "      <td>B-1421</td>\n",
              "      <td>jewellery</td>\n",
              "      <td>necklaces chains</td>\n",
              "      <td>necklaces</td>\n",
              "      <td>3.9</td>\n",
              "      <td>2019-01-12</td>\n",
              "    </tr>\n",
              "    <tr>\n",
              "      <th>4</th>\n",
              "      <td>P-5586</td>\n",
              "      <td>B-3078</td>\n",
              "      <td>clothing</td>\n",
              "      <td>women s clothing</td>\n",
              "      <td>western wear</td>\n",
              "      <td>1.4</td>\n",
              "      <td>2017-01-12</td>\n",
              "    </tr>\n",
              "  </tbody>\n",
              "</table>\n",
              "</div>"
            ],
            "text/plain": [
              "   Product Product_Brand Item_Category              Subcategory_1  \\\n",
              "0  P-11284        B-2984     computers         network components   \n",
              "1   P-6580        B-1732     jewellery  bangles bracelets armlets   \n",
              "2   P-5843        B-3078      clothing           women s clothing   \n",
              "3   P-5334        B-1421     jewellery           necklaces chains   \n",
              "4   P-5586        B-3078      clothing           women s clothing   \n",
              "\n",
              "  Subcategory_2  Item_Rating       Date  \n",
              "0       routers          4.3 2018-01-12  \n",
              "1     bracelets          3.0 2012-12-20  \n",
              "2  western wear          1.5 2014-01-12  \n",
              "3     necklaces          3.9 2019-01-12  \n",
              "4  western wear          1.4 2017-01-12  "
            ]
          },
          "metadata": {
            "tags": []
          },
          "execution_count": 6
        }
      ]
    },
    {
      "cell_type": "code",
      "metadata": {
        "id": "DYGQlGdphc_5",
        "colab_type": "code",
        "colab": {
          "base_uri": "https://localhost:8080/",
          "height": 269
        },
        "outputId": "43a14ec8-c25d-46a7-a0f5-ac21e027b9bd"
      },
      "source": [
        "train.info()"
      ],
      "execution_count": null,
      "outputs": [
        {
          "output_type": "stream",
          "text": [
            "<class 'pandas.core.frame.DataFrame'>\n",
            "RangeIndex: 2452 entries, 0 to 2451\n",
            "Data columns (total 8 columns):\n",
            " #   Column         Non-Null Count  Dtype         \n",
            "---  ------         --------------  -----         \n",
            " 0   Product        2452 non-null   object        \n",
            " 1   Product_Brand  2452 non-null   object        \n",
            " 2   Item_Category  2452 non-null   object        \n",
            " 3   Subcategory_1  2452 non-null   object        \n",
            " 4   Subcategory_2  2452 non-null   object        \n",
            " 5   Item_Rating    2452 non-null   float64       \n",
            " 6   Date           2452 non-null   datetime64[ns]\n",
            " 7   Selling_Price  2452 non-null   float64       \n",
            "dtypes: datetime64[ns](1), float64(2), object(5)\n",
            "memory usage: 153.4+ KB\n"
          ],
          "name": "stdout"
        }
      ]
    },
    {
      "cell_type": "code",
      "metadata": {
        "id": "0N9slLnshdDw",
        "colab_type": "code",
        "colab": {
          "base_uri": "https://localhost:8080/",
          "height": 252
        },
        "outputId": "1cf2f4c0-a688-4a0c-bda6-ffe9a71f39cd"
      },
      "source": [
        "test.info()"
      ],
      "execution_count": null,
      "outputs": [
        {
          "output_type": "stream",
          "text": [
            "<class 'pandas.core.frame.DataFrame'>\n",
            "RangeIndex: 1051 entries, 0 to 1050\n",
            "Data columns (total 7 columns):\n",
            " #   Column         Non-Null Count  Dtype         \n",
            "---  ------         --------------  -----         \n",
            " 0   Product        1051 non-null   object        \n",
            " 1   Product_Brand  1051 non-null   object        \n",
            " 2   Item_Category  1051 non-null   object        \n",
            " 3   Subcategory_1  1051 non-null   object        \n",
            " 4   Subcategory_2  1051 non-null   object        \n",
            " 5   Item_Rating    1051 non-null   float64       \n",
            " 6   Date           1051 non-null   datetime64[ns]\n",
            "dtypes: datetime64[ns](1), float64(1), object(5)\n",
            "memory usage: 57.6+ KB\n"
          ],
          "name": "stdout"
        }
      ]
    },
    {
      "cell_type": "code",
      "metadata": {
        "id": "FQBOrBtDrgEr",
        "colab_type": "code",
        "colab": {
          "base_uri": "https://localhost:8080/",
          "height": 168
        },
        "outputId": "9a0e70d7-ad81-47fc-f3c1-5b4c1aae31cf"
      },
      "source": [
        "\n",
        "train.isnull().sum()"
      ],
      "execution_count": null,
      "outputs": [
        {
          "output_type": "execute_result",
          "data": {
            "text/plain": [
              "Product          0\n",
              "Product_Brand    0\n",
              "Item_Category    0\n",
              "Subcategory_1    0\n",
              "Subcategory_2    0\n",
              "Item_Rating      0\n",
              "Date             0\n",
              "Selling_Price    0\n",
              "dtype: int64"
            ]
          },
          "metadata": {
            "tags": []
          },
          "execution_count": 9
        }
      ]
    },
    {
      "cell_type": "code",
      "metadata": {
        "id": "rBWC6e1trjj3",
        "colab_type": "code",
        "colab": {
          "base_uri": "https://localhost:8080/",
          "height": 151
        },
        "outputId": "c06ea86a-06eb-4b8a-c278-3b37be0325be"
      },
      "source": [
        "test.isnull().sum()"
      ],
      "execution_count": null,
      "outputs": [
        {
          "output_type": "execute_result",
          "data": {
            "text/plain": [
              "Product          0\n",
              "Product_Brand    0\n",
              "Item_Category    0\n",
              "Subcategory_1    0\n",
              "Subcategory_2    0\n",
              "Item_Rating      0\n",
              "Date             0\n",
              "dtype: int64"
            ]
          },
          "metadata": {
            "tags": []
          },
          "execution_count": 10
        }
      ]
    },
    {
      "cell_type": "code",
      "metadata": {
        "id": "GEHwIePNhdHA",
        "colab_type": "code",
        "colab": {}
      },
      "source": [
        "train['train_or_test']='train'\n",
        "test['train_or_test']='test'\n",
        "df=pd.concat([train,test])"
      ],
      "execution_count": null,
      "outputs": []
    },
    {
      "cell_type": "code",
      "metadata": {
        "id": "QJ_l63QchdKK",
        "colab_type": "code",
        "colab": {
          "base_uri": "https://localhost:8080/",
          "height": 185
        },
        "outputId": "e6c30a69-c22f-4069-fa6f-a0abeef1f36b"
      },
      "source": [
        "df.isnull().sum()"
      ],
      "execution_count": null,
      "outputs": [
        {
          "output_type": "execute_result",
          "data": {
            "text/plain": [
              "Product             0\n",
              "Product_Brand       0\n",
              "Item_Category       0\n",
              "Subcategory_1       0\n",
              "Subcategory_2       0\n",
              "Item_Rating         0\n",
              "Date                0\n",
              "Selling_Price    1051\n",
              "train_or_test       0\n",
              "dtype: int64"
            ]
          },
          "metadata": {
            "tags": []
          },
          "execution_count": 12
        }
      ]
    },
    {
      "cell_type": "markdown",
      "metadata": {
        "id": "RlPmsSa9vIML",
        "colab_type": "text"
      },
      "source": [
        "# Creating Required Date Features"
      ]
    },
    {
      "cell_type": "code",
      "metadata": {
        "id": "pDcQr7FBqgWb",
        "colab_type": "code",
        "colab": {}
      },
      "source": [
        "def create_date_featues(df):\n",
        "    df['Month'] = pd.to_datetime(df['Date']).dt.month\n",
        "    df['Day'] = pd.to_datetime(df['Date']).dt.day\n",
        "    df['DayOfyear'] = pd.to_datetime(df['Date']).dt.dayofyear\n",
        "    df['Quarter'] = pd.to_datetime(df['Date']).dt.quarter \n",
        "    df['Is_month_start'] = pd.to_datetime(df['Date']).dt.is_month_start\n",
        "    return df"
      ],
      "execution_count": null,
      "outputs": []
    },
    {
      "cell_type": "code",
      "metadata": {
        "id": "26V1l8wYuk7H",
        "colab_type": "code",
        "colab": {}
      },
      "source": [
        "df=create_date_featues(df)"
      ],
      "execution_count": null,
      "outputs": []
    },
    {
      "cell_type": "markdown",
      "metadata": {
        "id": "SoHbgVs9vNus",
        "colab_type": "text"
      },
      "source": [
        "# Having a look into Item rating Feature"
      ]
    },
    {
      "cell_type": "code",
      "metadata": {
        "id": "w-a_D4GbhdNP",
        "colab_type": "code",
        "colab": {
          "base_uri": "https://localhost:8080/",
          "height": 533
        },
        "outputId": "69de09b5-1046-4b98-ee4c-bce7fd781329"
      },
      "source": [
        "sns.set(rc={'figure.figsize':(20,8)},font_scale=1.5)\n",
        "f, axes = plt.subplots(1,2)\n",
        "axes = axes.flatten()\n",
        "sns.distplot(df[\"Item_Rating\"],ax=axes[0])\n",
        "sns.boxplot(df[\"Item_Rating\"],ax=axes[1])"
      ],
      "execution_count": null,
      "outputs": [
        {
          "output_type": "execute_result",
          "data": {
            "text/plain": [
              "<matplotlib.axes._subplots.AxesSubplot at 0x7f69effe6f60>"
            ]
          },
          "metadata": {
            "tags": []
          },
          "execution_count": 15
        },
        {
          "output_type": "display_data",
          "data": {
            "image/png": "[encoded data removed]",
            "text/plain": [
              "<Figure size 1440x576 with 2 Axes>"
            ]
          },
          "metadata": {
            "tags": []
          }
        }
      ]
    },
    {
      "cell_type": "code",
      "metadata": {
        "id": "lUt3hToXhdQC",
        "colab_type": "code",
        "colab": {
          "base_uri": "https://localhost:8080/",
          "height": 533
        },
        "outputId": "d9200926-af06-40ca-eb0a-0c2cc799b83e"
      },
      "source": [
        "x = df.groupby(\"Item_Rating\")[\"Quarter\"].mean().index\n",
        "y=df.groupby(\"Item_Rating\")[\"Quarter\"].mean().values\n",
        "sns.barplot(x,y)"
      ],
      "execution_count": null,
      "outputs": [
        {
          "output_type": "execute_result",
          "data": {
            "text/plain": [
              "<matplotlib.axes._subplots.AxesSubplot at 0x7f69efee6940>"
            ]
          },
          "metadata": {
            "tags": []
          },
          "execution_count": 16
        },
        {
          "output_type": "display_data",
          "data": {
            "image/png": "[encoded data removed]",
            "text/plain": [
              "<Figure size 1440x576 with 1 Axes>"
            ]
          },
          "metadata": {
            "tags": []
          }
        }
      ]
    },
    {
      "cell_type": "code",
      "metadata": {
        "id": "BzVczEGFrhik",
        "colab_type": "code",
        "colab": {
          "base_uri": "https://localhost:8080/",
          "height": 101
        },
        "outputId": "8849e960-d768-4e11-c04d-d3da28b800ee"
      },
      "source": [
        "df.Quarter.value_counts()"
      ],
      "execution_count": null,
      "outputs": [
        {
          "output_type": "execute_result",
          "data": {
            "text/plain": [
              "1    1446\n",
              "4    1007\n",
              "2     600\n",
              "3     450\n",
              "Name: Quarter, dtype: int64"
            ]
          },
          "metadata": {
            "tags": []
          },
          "execution_count": 17
        }
      ]
    },
    {
      "cell_type": "code",
      "metadata": {
        "id": "R7B1E8zwhdSw",
        "colab_type": "code",
        "colab": {}
      },
      "source": [
        "#Will be using this afterwards\n",
        "# train_df[\"SellPrice_per_ItemRating\"] = train_df[\"Selling_Price\"]/train_df.groupby(['Item_Rating'])['Selling_Price'].transform('mean')\n",
        "# test_df[\"SellPrice_per_ItemRating\"] = test_df[\"Selling_Price\"]/test_df.groupby(['Item_Rating'])['Selling_Price'].transform('mean')"
      ],
      "execution_count": null,
      "outputs": []
    },
    {
      "cell_type": "code",
      "metadata": {
        "id": "uyxAOAXtrUPD",
        "colab_type": "code",
        "colab": {
          "base_uri": "https://localhost:8080/",
          "height": 370
        },
        "outputId": "d4cc6b80-0515-4777-ac33-fa76387775d1"
      },
      "source": [
        "df.info()"
      ],
      "execution_count": null,
      "outputs": [
        {
          "output_type": "stream",
          "text": [
            "<class 'pandas.core.frame.DataFrame'>\n",
            "Int64Index: 3503 entries, 0 to 1050\n",
            "Data columns (total 14 columns):\n",
            " #   Column          Non-Null Count  Dtype         \n",
            "---  ------          --------------  -----         \n",
            " 0   Product         3503 non-null   object        \n",
            " 1   Product_Brand   3503 non-null   object        \n",
            " 2   Item_Category   3503 non-null   object        \n",
            " 3   Subcategory_1   3503 non-null   object        \n",
            " 4   Subcategory_2   3503 non-null   object        \n",
            " 5   Item_Rating     3503 non-null   float64       \n",
            " 6   Date            3503 non-null   datetime64[ns]\n",
            " 7   Selling_Price   2452 non-null   float64       \n",
            " 8   train_or_test   3503 non-null   object        \n",
            " 9   Month           3503 non-null   int64         \n",
            " 10  Day             3503 non-null   int64         \n",
            " 11  DayOfyear       3503 non-null   int64         \n",
            " 12  Quarter         3503 non-null   int64         \n",
            " 13  Is_month_start  3503 non-null   bool          \n",
            "dtypes: bool(1), datetime64[ns](1), float64(2), int64(4), object(6)\n",
            "memory usage: 386.6+ KB\n"
          ],
          "name": "stdout"
        }
      ]
    },
    {
      "cell_type": "markdown",
      "metadata": {
        "id": "v0sjbQuqvADe",
        "colab_type": "text"
      },
      "source": [
        "# Interaction of Features"
      ]
    },
    {
      "cell_type": "code",
      "metadata": {
        "id": "TwhkwtAnxDpS",
        "colab_type": "code",
        "colab": {
          "base_uri": "https://localhost:8080/",
          "height": 195
        },
        "outputId": "8b2bf847-da0e-44f8-d2bf-b7aec18c7427"
      },
      "source": [
        "df.head()"
      ],
      "execution_count": null,
      "outputs": [
        {
          "output_type": "execute_result",
          "data": {
            "text/html": [
              "<div>\n",
              "<style scoped>\n",
              "    .dataframe tbody tr th:only-of-type {\n",
              "        vertical-align: middle;\n",
              "    }\n",
              "\n",
              "    .dataframe tbody tr th {\n",
              "        vertical-align: top;\n",
              "    }\n",
              "\n",
              "    .dataframe thead th {\n",
              "        text-align: right;\n",
              "    }\n",
              "</style>\n",
              "<table border=\"1\" class=\"dataframe\">\n",
              "  <thead>\n",
              "    <tr style=\"text-align: right;\">\n",
              "      <th></th>\n",
              "      <th>Product</th>\n",
              "      <th>Product_Brand</th>\n",
              "      <th>Item_Category</th>\n",
              "      <th>Subcategory_1</th>\n",
              "      <th>Subcategory_2</th>\n",
              "      <th>Item_Rating</th>\n",
              "      <th>Date</th>\n",
              "      <th>Selling_Price</th>\n",
              "      <th>train_or_test</th>\n",
              "      <th>Month</th>\n",
              "      <th>Day</th>\n",
              "      <th>DayOfyear</th>\n",
              "      <th>Quarter</th>\n",
              "      <th>Is_month_start</th>\n",
              "    </tr>\n",
              "  </thead>\n",
              "  <tbody>\n",
              "    <tr>\n",
              "      <th>0</th>\n",
              "      <td>P-2610</td>\n",
              "      <td>B-659</td>\n",
              "      <td>bags wallets belts</td>\n",
              "      <td>bags</td>\n",
              "      <td>hand bags</td>\n",
              "      <td>4.3</td>\n",
              "      <td>2017-02-03</td>\n",
              "      <td>291.0</td>\n",
              "      <td>train</td>\n",
              "      <td>2</td>\n",
              "      <td>3</td>\n",
              "      <td>34</td>\n",
              "      <td>1</td>\n",
              "      <td>False</td>\n",
              "    </tr>\n",
              "    <tr>\n",
              "      <th>1</th>\n",
              "      <td>P-2453</td>\n",
              "      <td>B-3078</td>\n",
              "      <td>clothing</td>\n",
              "      <td>women s clothing</td>\n",
              "      <td>western wear</td>\n",
              "      <td>3.1</td>\n",
              "      <td>2015-07-01</td>\n",
              "      <td>897.0</td>\n",
              "      <td>train</td>\n",
              "      <td>7</td>\n",
              "      <td>1</td>\n",
              "      <td>182</td>\n",
              "      <td>3</td>\n",
              "      <td>True</td>\n",
              "    </tr>\n",
              "    <tr>\n",
              "      <th>2</th>\n",
              "      <td>P-6802</td>\n",
              "      <td>B-1810</td>\n",
              "      <td>home decor festive needs</td>\n",
              "      <td>showpieces</td>\n",
              "      <td>ethnic</td>\n",
              "      <td>3.5</td>\n",
              "      <td>2019-01-12</td>\n",
              "      <td>792.0</td>\n",
              "      <td>train</td>\n",
              "      <td>1</td>\n",
              "      <td>12</td>\n",
              "      <td>12</td>\n",
              "      <td>1</td>\n",
              "      <td>False</td>\n",
              "    </tr>\n",
              "    <tr>\n",
              "      <th>3</th>\n",
              "      <td>P-4452</td>\n",
              "      <td>B-3078</td>\n",
              "      <td>beauty and personal care</td>\n",
              "      <td>eye care</td>\n",
              "      <td>h2o plus eye care</td>\n",
              "      <td>4.0</td>\n",
              "      <td>2014-12-12</td>\n",
              "      <td>837.0</td>\n",
              "      <td>train</td>\n",
              "      <td>12</td>\n",
              "      <td>12</td>\n",
              "      <td>346</td>\n",
              "      <td>4</td>\n",
              "      <td>False</td>\n",
              "    </tr>\n",
              "    <tr>\n",
              "      <th>4</th>\n",
              "      <td>P-8454</td>\n",
              "      <td>B-3078</td>\n",
              "      <td>clothing</td>\n",
              "      <td>men s clothing</td>\n",
              "      <td>t shirts</td>\n",
              "      <td>4.3</td>\n",
              "      <td>2013-12-12</td>\n",
              "      <td>470.0</td>\n",
              "      <td>train</td>\n",
              "      <td>12</td>\n",
              "      <td>12</td>\n",
              "      <td>346</td>\n",
              "      <td>4</td>\n",
              "      <td>False</td>\n",
              "    </tr>\n",
              "  </tbody>\n",
              "</table>\n",
              "</div>"
            ],
            "text/plain": [
              "  Product Product_Brand             Item_Category     Subcategory_1  \\\n",
              "0  P-2610         B-659        bags wallets belts              bags   \n",
              "1  P-2453        B-3078                  clothing  women s clothing   \n",
              "2  P-6802        B-1810  home decor festive needs        showpieces   \n",
              "3  P-4452        B-3078  beauty and personal care          eye care   \n",
              "4  P-8454        B-3078                  clothing    men s clothing   \n",
              "\n",
              "       Subcategory_2  Item_Rating       Date  Selling_Price train_or_test  \\\n",
              "0          hand bags          4.3 2017-02-03          291.0         train   \n",
              "1       western wear          3.1 2015-07-01          897.0         train   \n",
              "2             ethnic          3.5 2019-01-12          792.0         train   \n",
              "3  h2o plus eye care          4.0 2014-12-12          837.0         train   \n",
              "4           t shirts          4.3 2013-12-12          470.0         train   \n",
              "\n",
              "   Month  Day  DayOfyear  Quarter  Is_month_start  \n",
              "0      2    3         34        1           False  \n",
              "1      7    1        182        3            True  \n",
              "2      1   12         12        1           False  \n",
              "3     12   12        346        4           False  \n",
              "4     12   12        346        4           False  "
            ]
          },
          "metadata": {
            "tags": []
          },
          "execution_count": 20
        }
      ]
    },
    {
      "cell_type": "code",
      "metadata": {
        "id": "VxZ_ts6Bu_da",
        "colab_type": "code",
        "colab": {}
      },
      "source": [
        "interaction1=df['Product_Brand']+'_'+df['Subcategory_1']\n",
        "interaction2=df['Product_Brand']+'_'+df['Subcategory_2']\n",
        "\n",
        "interaction3=df['Item_Category']+'_'+df['Subcategory_1']\n",
        "interaction4=df['Item_Category']+'_'+df['Subcategory_2']\n",
        "\n",
        "interaction5=df['Subcategory_1']+'_'+df['Subcategory_2']\n",
        "\n",
        "df['PB_S1']=interaction1\n",
        "df['PB_S2']=interaction2\n",
        "df['IC_S1']=interaction3\n",
        "df['IC_S2']=interaction4\n",
        "df['S1_S2']=interaction5"
      ],
      "execution_count": null,
      "outputs": []
    },
    {
      "cell_type": "code",
      "metadata": {
        "id": "3dYHmE0ByfbJ",
        "colab_type": "code",
        "colab": {
          "base_uri": "https://localhost:8080/",
          "height": 366
        },
        "outputId": "58a6ca67-4d42-430e-c6a6-7c55faffb5bc"
      },
      "source": [
        "df.head()"
      ],
      "execution_count": null,
      "outputs": [
        {
          "output_type": "execute_result",
          "data": {
            "text/html": [
              "<div>\n",
              "<style scoped>\n",
              "    .dataframe tbody tr th:only-of-type {\n",
              "        vertical-align: middle;\n",
              "    }\n",
              "\n",
              "    .dataframe tbody tr th {\n",
              "        vertical-align: top;\n",
              "    }\n",
              "\n",
              "    .dataframe thead th {\n",
              "        text-align: right;\n",
              "    }\n",
              "</style>\n",
              "<table border=\"1\" class=\"dataframe\">\n",
              "  <thead>\n",
              "    <tr style=\"text-align: right;\">\n",
              "      <th></th>\n",
              "      <th>Product</th>\n",
              "      <th>Product_Brand</th>\n",
              "      <th>Item_Category</th>\n",
              "      <th>Subcategory_1</th>\n",
              "      <th>Subcategory_2</th>\n",
              "      <th>Item_Rating</th>\n",
              "      <th>Date</th>\n",
              "      <th>Selling_Price</th>\n",
              "      <th>train_or_test</th>\n",
              "      <th>Month</th>\n",
              "      <th>Day</th>\n",
              "      <th>DayOfyear</th>\n",
              "      <th>Quarter</th>\n",
              "      <th>Is_month_start</th>\n",
              "      <th>PB_S1</th>\n",
              "      <th>PB_S2</th>\n",
              "      <th>IC_S1</th>\n",
              "      <th>IC_S2</th>\n",
              "      <th>S1_S2</th>\n",
              "    </tr>\n",
              "  </thead>\n",
              "  <tbody>\n",
              "    <tr>\n",
              "      <th>0</th>\n",
              "      <td>P-2610</td>\n",
              "      <td>B-659</td>\n",
              "      <td>bags wallets belts</td>\n",
              "      <td>bags</td>\n",
              "      <td>hand bags</td>\n",
              "      <td>4.3</td>\n",
              "      <td>2017-02-03</td>\n",
              "      <td>291.0</td>\n",
              "      <td>train</td>\n",
              "      <td>2</td>\n",
              "      <td>3</td>\n",
              "      <td>34</td>\n",
              "      <td>1</td>\n",
              "      <td>False</td>\n",
              "      <td>B-659_bags</td>\n",
              "      <td>B-659_hand bags</td>\n",
              "      <td>bags wallets belts_bags</td>\n",
              "      <td>bags wallets belts_hand bags</td>\n",
              "      <td>bags_hand bags</td>\n",
              "    </tr>\n",
              "    <tr>\n",
              "      <th>1</th>\n",
              "      <td>P-2453</td>\n",
              "      <td>B-3078</td>\n",
              "      <td>clothing</td>\n",
              "      <td>women s clothing</td>\n",
              "      <td>western wear</td>\n",
              "      <td>3.1</td>\n",
              "      <td>2015-07-01</td>\n",
              "      <td>897.0</td>\n",
              "      <td>train</td>\n",
              "      <td>7</td>\n",
              "      <td>1</td>\n",
              "      <td>182</td>\n",
              "      <td>3</td>\n",
              "      <td>True</td>\n",
              "      <td>B-3078_women s clothing</td>\n",
              "      <td>B-3078_western wear</td>\n",
              "      <td>clothing_women s clothing</td>\n",
              "      <td>clothing_western wear</td>\n",
              "      <td>women s clothing_western wear</td>\n",
              "    </tr>\n",
              "    <tr>\n",
              "      <th>2</th>\n",
              "      <td>P-6802</td>\n",
              "      <td>B-1810</td>\n",
              "      <td>home decor festive needs</td>\n",
              "      <td>showpieces</td>\n",
              "      <td>ethnic</td>\n",
              "      <td>3.5</td>\n",
              "      <td>2019-01-12</td>\n",
              "      <td>792.0</td>\n",
              "      <td>train</td>\n",
              "      <td>1</td>\n",
              "      <td>12</td>\n",
              "      <td>12</td>\n",
              "      <td>1</td>\n",
              "      <td>False</td>\n",
              "      <td>B-1810_showpieces</td>\n",
              "      <td>B-1810_ethnic</td>\n",
              "      <td>home decor festive needs_showpieces</td>\n",
              "      <td>home decor festive needs_ethnic</td>\n",
              "      <td>showpieces_ethnic</td>\n",
              "    </tr>\n",
              "    <tr>\n",
              "      <th>3</th>\n",
              "      <td>P-4452</td>\n",
              "      <td>B-3078</td>\n",
              "      <td>beauty and personal care</td>\n",
              "      <td>eye care</td>\n",
              "      <td>h2o plus eye care</td>\n",
              "      <td>4.0</td>\n",
              "      <td>2014-12-12</td>\n",
              "      <td>837.0</td>\n",
              "      <td>train</td>\n",
              "      <td>12</td>\n",
              "      <td>12</td>\n",
              "      <td>346</td>\n",
              "      <td>4</td>\n",
              "      <td>False</td>\n",
              "      <td>B-3078_eye care</td>\n",
              "      <td>B-3078_h2o plus eye care</td>\n",
              "      <td>beauty and personal care_eye care</td>\n",
              "      <td>beauty and personal care_h2o plus eye care</td>\n",
              "      <td>eye care_h2o plus eye care</td>\n",
              "    </tr>\n",
              "    <tr>\n",
              "      <th>4</th>\n",
              "      <td>P-8454</td>\n",
              "      <td>B-3078</td>\n",
              "      <td>clothing</td>\n",
              "      <td>men s clothing</td>\n",
              "      <td>t shirts</td>\n",
              "      <td>4.3</td>\n",
              "      <td>2013-12-12</td>\n",
              "      <td>470.0</td>\n",
              "      <td>train</td>\n",
              "      <td>12</td>\n",
              "      <td>12</td>\n",
              "      <td>346</td>\n",
              "      <td>4</td>\n",
              "      <td>False</td>\n",
              "      <td>B-3078_men s clothing</td>\n",
              "      <td>B-3078_t shirts</td>\n",
              "      <td>clothing_men s clothing</td>\n",
              "      <td>clothing_t shirts</td>\n",
              "      <td>men s clothing_t shirts</td>\n",
              "    </tr>\n",
              "  </tbody>\n",
              "</table>\n",
              "</div>"
            ],
            "text/plain": [
              "  Product Product_Brand             Item_Category     Subcategory_1  \\\n",
              "0  P-2610         B-659        bags wallets belts              bags   \n",
              "1  P-2453        B-3078                  clothing  women s clothing   \n",
              "2  P-6802        B-1810  home decor festive needs        showpieces   \n",
              "3  P-4452        B-3078  beauty and personal care          eye care   \n",
              "4  P-8454        B-3078                  clothing    men s clothing   \n",
              "\n",
              "       Subcategory_2  Item_Rating       Date  Selling_Price train_or_test  \\\n",
              "0          hand bags          4.3 2017-02-03          291.0         train   \n",
              "1       western wear          3.1 2015-07-01          897.0         train   \n",
              "2             ethnic          3.5 2019-01-12          792.0         train   \n",
              "3  h2o plus eye care          4.0 2014-12-12          837.0         train   \n",
              "4           t shirts          4.3 2013-12-12          470.0         train   \n",
              "\n",
              "   Month  Day  DayOfyear  Quarter  Is_month_start                    PB_S1  \\\n",
              "0      2    3         34        1           False               B-659_bags   \n",
              "1      7    1        182        3            True  B-3078_women s clothing   \n",
              "2      1   12         12        1           False        B-1810_showpieces   \n",
              "3     12   12        346        4           False          B-3078_eye care   \n",
              "4     12   12        346        4           False    B-3078_men s clothing   \n",
              "\n",
              "                      PB_S2                                IC_S1  \\\n",
              "0           B-659_hand bags              bags wallets belts_bags   \n",
              "1       B-3078_western wear            clothing_women s clothing   \n",
              "2             B-1810_ethnic  home decor festive needs_showpieces   \n",
              "3  B-3078_h2o plus eye care    beauty and personal care_eye care   \n",
              "4           B-3078_t shirts              clothing_men s clothing   \n",
              "\n",
              "                                        IC_S2                          S1_S2  \n",
              "0                bags wallets belts_hand bags                 bags_hand bags  \n",
              "1                       clothing_western wear  women s clothing_western wear  \n",
              "2             home decor festive needs_ethnic              showpieces_ethnic  \n",
              "3  beauty and personal care_h2o plus eye care     eye care_h2o plus eye care  \n",
              "4                           clothing_t shirts        men s clothing_t shirts  "
            ]
          },
          "metadata": {
            "tags": []
          },
          "execution_count": 22
        }
      ]
    },
    {
      "cell_type": "markdown",
      "metadata": {
        "id": "ITT47reUEAJx",
        "colab_type": "text"
      },
      "source": [
        "# Unique value counts for each variable for encodinng"
      ]
    },
    {
      "cell_type": "code",
      "metadata": {
        "id": "rAMRmjqZD_sp",
        "colab_type": "code",
        "colab": {
          "base_uri": "https://localhost:8080/",
          "height": 386
        },
        "outputId": "ecb3e162-ad35-4889-928c-d05eb9aea6b4"
      },
      "source": [
        "for i in df.select_dtypes(['object']):\n",
        "  print(i,df[i].nunique())\n",
        "  print('##################')"
      ],
      "execution_count": null,
      "outputs": [
        {
          "output_type": "stream",
          "text": [
            "Product 3503\n",
            "##################\n",
            "Product_Brand 1313\n",
            "##################\n",
            "Item_Category 95\n",
            "##################\n",
            "Subcategory_1 142\n",
            "##################\n",
            "Subcategory_2 395\n",
            "##################\n",
            "train_or_test 2\n",
            "##################\n",
            "PB_S1 1450\n",
            "##################\n",
            "PB_S2 1557\n",
            "##################\n",
            "IC_S1 212\n",
            "##################\n",
            "IC_S2 475\n",
            "##################\n",
            "S1_S2 433\n",
            "##################\n"
          ],
          "name": "stdout"
        }
      ]
    },
    {
      "cell_type": "markdown",
      "metadata": {
        "id": "QmiymDO9wq0y",
        "colab_type": "text"
      },
      "source": [
        "# Label_Encoding"
      ]
    },
    {
      "cell_type": "code",
      "metadata": {
        "id": "iLlF9C_quKfL",
        "colab_type": "code",
        "colab": {}
      },
      "source": [
        "from sklearn.preprocessing import LabelEncoder\n",
        "le = LabelEncoder()\n",
        "for col in ['Item_Category','Product','Subcategory_1','IC_S1','S1_S2']:\n",
        "    df[col]= le.fit_transform(df[col])\n",
        "# df.Item_Category.nunique()==95  which is very small as compared to Product_Brand and hence we label Encoded it   \n",
        "# Product itself is like a Unique key having unique for every row not of significant use\n",
        "# Subcategory, IC_S1,S1_S2 are purely configured after trial and error thats giving the highest jump in the required evaluation metrics. "
      ],
      "execution_count": null,
      "outputs": []
    },
    {
      "cell_type": "code",
      "metadata": {
        "id": "EFMxDd9nFh2m",
        "colab_type": "code",
        "colab": {
          "base_uri": "https://localhost:8080/",
          "height": 366
        },
        "outputId": "79181e0f-6546-46ec-f659-7303ccf23e7a"
      },
      "source": [
        "df.head()"
      ],
      "execution_count": null,
      "outputs": [
        {
          "output_type": "execute_result",
          "data": {
            "text/html": [
              "<div>\n",
              "<style scoped>\n",
              "    .dataframe tbody tr th:only-of-type {\n",
              "        vertical-align: middle;\n",
              "    }\n",
              "\n",
              "    .dataframe tbody tr th {\n",
              "        vertical-align: top;\n",
              "    }\n",
              "\n",
              "    .dataframe thead th {\n",
              "        text-align: right;\n",
              "    }\n",
              "</style>\n",
              "<table border=\"1\" class=\"dataframe\">\n",
              "  <thead>\n",
              "    <tr style=\"text-align: right;\">\n",
              "      <th></th>\n",
              "      <th>Product</th>\n",
              "      <th>Product_Brand</th>\n",
              "      <th>Item_Category</th>\n",
              "      <th>Subcategory_1</th>\n",
              "      <th>Subcategory_2</th>\n",
              "      <th>Item_Rating</th>\n",
              "      <th>Date</th>\n",
              "      <th>Selling_Price</th>\n",
              "      <th>train_or_test</th>\n",
              "      <th>Month</th>\n",
              "      <th>Day</th>\n",
              "      <th>DayOfyear</th>\n",
              "      <th>Quarter</th>\n",
              "      <th>Is_month_start</th>\n",
              "      <th>PB_S1</th>\n",
              "      <th>PB_S2</th>\n",
              "      <th>IC_S1</th>\n",
              "      <th>IC_S2</th>\n",
              "      <th>S1_S2</th>\n",
              "    </tr>\n",
              "  </thead>\n",
              "  <tbody>\n",
              "    <tr>\n",
              "      <th>0</th>\n",
              "      <td>1154</td>\n",
              "      <td>B-659</td>\n",
              "      <td>9</td>\n",
              "      <td>11</td>\n",
              "      <td>hand bags</td>\n",
              "      <td>4.3</td>\n",
              "      <td>2017-02-03</td>\n",
              "      <td>291.0</td>\n",
              "      <td>train</td>\n",
              "      <td>2</td>\n",
              "      <td>3</td>\n",
              "      <td>34</td>\n",
              "      <td>1</td>\n",
              "      <td>False</td>\n",
              "      <td>B-659_bags</td>\n",
              "      <td>B-659_hand bags</td>\n",
              "      <td>19</td>\n",
              "      <td>bags wallets belts_hand bags</td>\n",
              "      <td>37</td>\n",
              "    </tr>\n",
              "    <tr>\n",
              "      <th>1</th>\n",
              "      <td>1109</td>\n",
              "      <td>B-3078</td>\n",
              "      <td>17</td>\n",
              "      <td>139</td>\n",
              "      <td>western wear</td>\n",
              "      <td>3.1</td>\n",
              "      <td>2015-07-01</td>\n",
              "      <td>897.0</td>\n",
              "      <td>train</td>\n",
              "      <td>7</td>\n",
              "      <td>1</td>\n",
              "      <td>182</td>\n",
              "      <td>3</td>\n",
              "      <td>True</td>\n",
              "      <td>B-3078_women s clothing</td>\n",
              "      <td>B-3078_western wear</td>\n",
              "      <td>39</td>\n",
              "      <td>clothing_western wear</td>\n",
              "      <td>376</td>\n",
              "    </tr>\n",
              "    <tr>\n",
              "      <th>2</th>\n",
              "      <td>2499</td>\n",
              "      <td>B-1810</td>\n",
              "      <td>38</td>\n",
              "      <td>119</td>\n",
              "      <td>ethnic</td>\n",
              "      <td>3.5</td>\n",
              "      <td>2019-01-12</td>\n",
              "      <td>792.0</td>\n",
              "      <td>train</td>\n",
              "      <td>1</td>\n",
              "      <td>12</td>\n",
              "      <td>12</td>\n",
              "      <td>1</td>\n",
              "      <td>False</td>\n",
              "      <td>B-1810_showpieces</td>\n",
              "      <td>B-1810_ethnic</td>\n",
              "      <td>86</td>\n",
              "      <td>home decor festive needs_ethnic</td>\n",
              "      <td>312</td>\n",
              "    </tr>\n",
              "    <tr>\n",
              "      <th>3</th>\n",
              "      <td>1732</td>\n",
              "      <td>B-3078</td>\n",
              "      <td>12</td>\n",
              "      <td>40</td>\n",
              "      <td>h2o plus eye care</td>\n",
              "      <td>4.0</td>\n",
              "      <td>2014-12-12</td>\n",
              "      <td>837.0</td>\n",
              "      <td>train</td>\n",
              "      <td>12</td>\n",
              "      <td>12</td>\n",
              "      <td>346</td>\n",
              "      <td>4</td>\n",
              "      <td>False</td>\n",
              "      <td>B-3078_eye care</td>\n",
              "      <td>B-3078_h2o plus eye care</td>\n",
              "      <td>28</td>\n",
              "      <td>beauty and personal care_h2o plus eye care</td>\n",
              "      <td>104</td>\n",
              "    </tr>\n",
              "    <tr>\n",
              "      <th>4</th>\n",
              "      <td>3016</td>\n",
              "      <td>B-3078</td>\n",
              "      <td>17</td>\n",
              "      <td>86</td>\n",
              "      <td>t shirts</td>\n",
              "      <td>4.3</td>\n",
              "      <td>2013-12-12</td>\n",
              "      <td>470.0</td>\n",
              "      <td>train</td>\n",
              "      <td>12</td>\n",
              "      <td>12</td>\n",
              "      <td>346</td>\n",
              "      <td>4</td>\n",
              "      <td>False</td>\n",
              "      <td>B-3078_men s clothing</td>\n",
              "      <td>B-3078_t shirts</td>\n",
              "      <td>38</td>\n",
              "      <td>clothing_t shirts</td>\n",
              "      <td>205</td>\n",
              "    </tr>\n",
              "  </tbody>\n",
              "</table>\n",
              "</div>"
            ],
            "text/plain": [
              "   Product Product_Brand  Item_Category  Subcategory_1      Subcategory_2  \\\n",
              "0     1154         B-659              9             11          hand bags   \n",
              "1     1109        B-3078             17            139       western wear   \n",
              "2     2499        B-1810             38            119             ethnic   \n",
              "3     1732        B-3078             12             40  h2o plus eye care   \n",
              "4     3016        B-3078             17             86           t shirts   \n",
              "\n",
              "   Item_Rating       Date  Selling_Price train_or_test  Month  Day  DayOfyear  \\\n",
              "0          4.3 2017-02-03          291.0         train      2    3         34   \n",
              "1          3.1 2015-07-01          897.0         train      7    1        182   \n",
              "2          3.5 2019-01-12          792.0         train      1   12         12   \n",
              "3          4.0 2014-12-12          837.0         train     12   12        346   \n",
              "4          4.3 2013-12-12          470.0         train     12   12        346   \n",
              "\n",
              "   Quarter  Is_month_start                    PB_S1                     PB_S2  \\\n",
              "0        1           False               B-659_bags           B-659_hand bags   \n",
              "1        3            True  B-3078_women s clothing       B-3078_western wear   \n",
              "2        1           False        B-1810_showpieces             B-1810_ethnic   \n",
              "3        4           False          B-3078_eye care  B-3078_h2o plus eye care   \n",
              "4        4           False    B-3078_men s clothing           B-3078_t shirts   \n",
              "\n",
              "   IC_S1                                       IC_S2  S1_S2  \n",
              "0     19                bags wallets belts_hand bags     37  \n",
              "1     39                       clothing_western wear    376  \n",
              "2     86             home decor festive needs_ethnic    312  \n",
              "3     28  beauty and personal care_h2o plus eye care    104  \n",
              "4     38                           clothing_t shirts    205  "
            ]
          },
          "metadata": {
            "tags": []
          },
          "execution_count": 25
        }
      ]
    },
    {
      "cell_type": "markdown",
      "metadata": {
        "id": "vcykSVMjytme",
        "colab_type": "text"
      },
      "source": [
        "# Frequency Encoding\n",
        "It is a way to utilize the frequency of the categories as labels. In the cases where the frequency is related somewhat with the target variable, it helps the model to understand and assign the weight in direct and inverse proportion, depending on the nature of the data"
      ]
    },
    {
      "cell_type": "code",
      "metadata": {
        "id": "mQczzdqvuzlg",
        "colab_type": "code",
        "colab": {}
      },
      "source": [
        "fe_pol = (df.groupby('Product_Brand').size()) / len(df)\n",
        "df['Product_Brand_fe'] = df['Product_Brand'].apply(lambda x : fe_pol[x])"
      ],
      "execution_count": null,
      "outputs": []
    },
    {
      "cell_type": "code",
      "metadata": {
        "id": "xfATtnhozVJ1",
        "colab_type": "code",
        "colab": {}
      },
      "source": [
        "fe_pol = (df.groupby('Subcategory_1').size()) / len(df)\n",
        "df['Subcategory_1_fe'] = df['Subcategory_1'].apply(lambda x : fe_pol[x])"
      ],
      "execution_count": null,
      "outputs": []
    },
    {
      "cell_type": "code",
      "metadata": {
        "id": "mtCmYqPt2nb7",
        "colab_type": "code",
        "colab": {}
      },
      "source": [
        "fe_pol = (df.groupby('Subcategory_2').size()) / len(df)\n",
        "df['Subcategory_2_fe'] = df['Subcategory_2'].apply(lambda x : fe_pol[x])"
      ],
      "execution_count": null,
      "outputs": []
    },
    {
      "cell_type": "code",
      "metadata": {
        "id": "uFO6nQ4a2nY9",
        "colab_type": "code",
        "colab": {}
      },
      "source": [
        "# Sub Category-2 will more inference of frequency encoding, also this is a part of trial and Error method\n",
        "fe_pol = (df.groupby('PB_S2').size()) / len(df)\n",
        "df['PB_S2_fe'] = df['PB_S2'].apply(lambda x : fe_pol[x])"
      ],
      "execution_count": null,
      "outputs": []
    },
    {
      "cell_type": "code",
      "metadata": {
        "id": "ryFtD5U-2nWF",
        "colab_type": "code",
        "colab": {
          "base_uri": "https://localhost:8080/",
          "height": 366
        },
        "outputId": "14cdd9d9-4ffd-4ff2-ec1f-b23103a657f7"
      },
      "source": [
        "df.head()"
      ],
      "execution_count": null,
      "outputs": [
        {
          "output_type": "execute_result",
          "data": {
            "text/html": [
              "<div>\n",
              "<style scoped>\n",
              "    .dataframe tbody tr th:only-of-type {\n",
              "        vertical-align: middle;\n",
              "    }\n",
              "\n",
              "    .dataframe tbody tr th {\n",
              "        vertical-align: top;\n",
              "    }\n",
              "\n",
              "    .dataframe thead th {\n",
              "        text-align: right;\n",
              "    }\n",
              "</style>\n",
              "<table border=\"1\" class=\"dataframe\">\n",
              "  <thead>\n",
              "    <tr style=\"text-align: right;\">\n",
              "      <th></th>\n",
              "      <th>Product</th>\n",
              "      <th>Product_Brand</th>\n",
              "      <th>Item_Category</th>\n",
              "      <th>Subcategory_1</th>\n",
              "      <th>Subcategory_2</th>\n",
              "      <th>Item_Rating</th>\n",
              "      <th>Date</th>\n",
              "      <th>Selling_Price</th>\n",
              "      <th>train_or_test</th>\n",
              "      <th>Month</th>\n",
              "      <th>Day</th>\n",
              "      <th>DayOfyear</th>\n",
              "      <th>Quarter</th>\n",
              "      <th>Is_month_start</th>\n",
              "      <th>PB_S1</th>\n",
              "      <th>PB_S2</th>\n",
              "      <th>IC_S1</th>\n",
              "      <th>IC_S2</th>\n",
              "      <th>S1_S2</th>\n",
              "      <th>Product_Brand_fe</th>\n",
              "      <th>Subcategory_1_fe</th>\n",
              "      <th>Subcategory_2_fe</th>\n",
              "      <th>PB_S2_fe</th>\n",
              "    </tr>\n",
              "  </thead>\n",
              "  <tbody>\n",
              "    <tr>\n",
              "      <th>0</th>\n",
              "      <td>1154</td>\n",
              "      <td>B-659</td>\n",
              "      <td>9</td>\n",
              "      <td>11</td>\n",
              "      <td>hand bags</td>\n",
              "      <td>4.3</td>\n",
              "      <td>2017-02-03</td>\n",
              "      <td>291.0</td>\n",
              "      <td>train</td>\n",
              "      <td>2</td>\n",
              "      <td>3</td>\n",
              "      <td>34</td>\n",
              "      <td>1</td>\n",
              "      <td>False</td>\n",
              "      <td>B-659_bags</td>\n",
              "      <td>B-659_hand bags</td>\n",
              "      <td>19</td>\n",
              "      <td>bags wallets belts_hand bags</td>\n",
              "      <td>37</td>\n",
              "      <td>0.000285</td>\n",
              "      <td>0.011419</td>\n",
              "      <td>0.004853</td>\n",
              "      <td>0.000285</td>\n",
              "    </tr>\n",
              "    <tr>\n",
              "      <th>1</th>\n",
              "      <td>1109</td>\n",
              "      <td>B-3078</td>\n",
              "      <td>17</td>\n",
              "      <td>139</td>\n",
              "      <td>western wear</td>\n",
              "      <td>3.1</td>\n",
              "      <td>2015-07-01</td>\n",
              "      <td>897.0</td>\n",
              "      <td>train</td>\n",
              "      <td>7</td>\n",
              "      <td>1</td>\n",
              "      <td>182</td>\n",
              "      <td>3</td>\n",
              "      <td>True</td>\n",
              "      <td>B-3078_women s clothing</td>\n",
              "      <td>B-3078_western wear</td>\n",
              "      <td>39</td>\n",
              "      <td>clothing_western wear</td>\n",
              "      <td>376</td>\n",
              "      <td>0.286897</td>\n",
              "      <td>0.198401</td>\n",
              "      <td>0.109620</td>\n",
              "      <td>0.067085</td>\n",
              "    </tr>\n",
              "    <tr>\n",
              "      <th>2</th>\n",
              "      <td>2499</td>\n",
              "      <td>B-1810</td>\n",
              "      <td>38</td>\n",
              "      <td>119</td>\n",
              "      <td>ethnic</td>\n",
              "      <td>3.5</td>\n",
              "      <td>2019-01-12</td>\n",
              "      <td>792.0</td>\n",
              "      <td>train</td>\n",
              "      <td>1</td>\n",
              "      <td>12</td>\n",
              "      <td>12</td>\n",
              "      <td>1</td>\n",
              "      <td>False</td>\n",
              "      <td>B-1810_showpieces</td>\n",
              "      <td>B-1810_ethnic</td>\n",
              "      <td>86</td>\n",
              "      <td>home decor festive needs_ethnic</td>\n",
              "      <td>312</td>\n",
              "      <td>0.000571</td>\n",
              "      <td>0.012846</td>\n",
              "      <td>0.005424</td>\n",
              "      <td>0.000571</td>\n",
              "    </tr>\n",
              "    <tr>\n",
              "      <th>3</th>\n",
              "      <td>1732</td>\n",
              "      <td>B-3078</td>\n",
              "      <td>12</td>\n",
              "      <td>40</td>\n",
              "      <td>h2o plus eye care</td>\n",
              "      <td>4.0</td>\n",
              "      <td>2014-12-12</td>\n",
              "      <td>837.0</td>\n",
              "      <td>train</td>\n",
              "      <td>12</td>\n",
              "      <td>12</td>\n",
              "      <td>346</td>\n",
              "      <td>4</td>\n",
              "      <td>False</td>\n",
              "      <td>B-3078_eye care</td>\n",
              "      <td>B-3078_h2o plus eye care</td>\n",
              "      <td>28</td>\n",
              "      <td>beauty and personal care_h2o plus eye care</td>\n",
              "      <td>104</td>\n",
              "      <td>0.286897</td>\n",
              "      <td>0.000571</td>\n",
              "      <td>0.000285</td>\n",
              "      <td>0.000285</td>\n",
              "    </tr>\n",
              "    <tr>\n",
              "      <th>4</th>\n",
              "      <td>3016</td>\n",
              "      <td>B-3078</td>\n",
              "      <td>17</td>\n",
              "      <td>86</td>\n",
              "      <td>t shirts</td>\n",
              "      <td>4.3</td>\n",
              "      <td>2013-12-12</td>\n",
              "      <td>470.0</td>\n",
              "      <td>train</td>\n",
              "      <td>12</td>\n",
              "      <td>12</td>\n",
              "      <td>346</td>\n",
              "      <td>4</td>\n",
              "      <td>False</td>\n",
              "      <td>B-3078_men s clothing</td>\n",
              "      <td>B-3078_t shirts</td>\n",
              "      <td>38</td>\n",
              "      <td>clothing_t shirts</td>\n",
              "      <td>205</td>\n",
              "      <td>0.286897</td>\n",
              "      <td>0.069369</td>\n",
              "      <td>0.024836</td>\n",
              "      <td>0.023979</td>\n",
              "    </tr>\n",
              "  </tbody>\n",
              "</table>\n",
              "</div>"
            ],
            "text/plain": [
              "   Product Product_Brand  Item_Category  Subcategory_1      Subcategory_2  \\\n",
              "0     1154         B-659              9             11          hand bags   \n",
              "1     1109        B-3078             17            139       western wear   \n",
              "2     2499        B-1810             38            119             ethnic   \n",
              "3     1732        B-3078             12             40  h2o plus eye care   \n",
              "4     3016        B-3078             17             86           t shirts   \n",
              "\n",
              "   Item_Rating       Date  Selling_Price train_or_test  Month  Day  DayOfyear  \\\n",
              "0          4.3 2017-02-03          291.0         train      2    3         34   \n",
              "1          3.1 2015-07-01          897.0         train      7    1        182   \n",
              "2          3.5 2019-01-12          792.0         train      1   12         12   \n",
              "3          4.0 2014-12-12          837.0         train     12   12        346   \n",
              "4          4.3 2013-12-12          470.0         train     12   12        346   \n",
              "\n",
              "   Quarter  Is_month_start                    PB_S1                     PB_S2  \\\n",
              "0        1           False               B-659_bags           B-659_hand bags   \n",
              "1        3            True  B-3078_women s clothing       B-3078_western wear   \n",
              "2        1           False        B-1810_showpieces             B-1810_ethnic   \n",
              "3        4           False          B-3078_eye care  B-3078_h2o plus eye care   \n",
              "4        4           False    B-3078_men s clothing           B-3078_t shirts   \n",
              "\n",
              "   IC_S1                                       IC_S2  S1_S2  Product_Brand_fe  \\\n",
              "0     19                bags wallets belts_hand bags     37          0.000285   \n",
              "1     39                       clothing_western wear    376          0.286897   \n",
              "2     86             home decor festive needs_ethnic    312          0.000571   \n",
              "3     28  beauty and personal care_h2o plus eye care    104          0.286897   \n",
              "4     38                           clothing_t shirts    205          0.286897   \n",
              "\n",
              "   Subcategory_1_fe  Subcategory_2_fe  PB_S2_fe  \n",
              "0          0.011419          0.004853  0.000285  \n",
              "1          0.198401          0.109620  0.067085  \n",
              "2          0.012846          0.005424  0.000571  \n",
              "3          0.000571          0.000285  0.000285  \n",
              "4          0.069369          0.024836  0.023979  "
            ]
          },
          "metadata": {
            "tags": []
          },
          "execution_count": 30
        }
      ]
    },
    {
      "cell_type": "markdown",
      "metadata": {
        "id": "nARgB_bk6-4I",
        "colab_type": "text"
      },
      "source": [
        "#Binary Encoding"
      ]
    },
    {
      "cell_type": "code",
      "metadata": {
        "id": "LJPPYLhL2nND",
        "colab_type": "code",
        "colab": {
          "base_uri": "https://localhost:8080/",
          "height": 269
        },
        "outputId": "60df8294-31fd-4d51-d363-7738857d7895"
      },
      "source": [
        "!pip install --upgrade category_encoders\n",
        "import category_encoders as ce"
      ],
      "execution_count": null,
      "outputs": [
        {
          "output_type": "stream",
          "text": [
            "Collecting category_encoders\n",
            "\u001b[?25l  Downloading https://files.pythonhosted.org/packages/44/57/fcef41c248701ee62e8325026b90c432adea35555cbc870aff9cfba23727/category_encoders-2.2.2-py2.py3-none-any.whl (80kB)\n",
            "\r\u001b[K     |████                            | 10kB 25.7MB/s eta 0:00:01\r\u001b[K     |████████▏                       | 20kB 5.9MB/s eta 0:00:01\r\u001b[K     |████████████▏                   | 30kB 7.2MB/s eta 0:00:01\r\u001b[K     |████████████████▎               | 40kB 8.1MB/s eta 0:00:01\r\u001b[K     |████████████████████▎           | 51kB 7.0MB/s eta 0:00:01\r\u001b[K     |████████████████████████▍       | 61kB 8.0MB/s eta 0:00:01\r\u001b[K     |████████████████████████████▍   | 71kB 8.3MB/s eta 0:00:01\r\u001b[K     |████████████████████████████████| 81kB 5.4MB/s \n",
            "\u001b[?25hRequirement already satisfied, skipping upgrade: numpy>=1.14.0 in /usr/local/lib/python3.6/dist-packages (from category_encoders) (1.18.5)\n",
            "Requirement already satisfied, skipping upgrade: scipy>=1.0.0 in /usr/local/lib/python3.6/dist-packages (from category_encoders) (1.4.1)\n",
            "Requirement already satisfied, skipping upgrade: pandas>=0.21.1 in /usr/local/lib/python3.6/dist-packages (from category_encoders) (1.0.4)\n",
            "Requirement already satisfied, skipping upgrade: statsmodels>=0.9.0 in /usr/local/lib/python3.6/dist-packages (from category_encoders) (0.10.2)\n",
            "Requirement already satisfied, skipping upgrade: patsy>=0.5.1 in /usr/local/lib/python3.6/dist-packages (from category_encoders) (0.5.1)\n",
            "Requirement already satisfied, skipping upgrade: scikit-learn>=0.20.0 in /usr/local/lib/python3.6/dist-packages (from category_encoders) (0.22.2.post1)\n",
            "Requirement already satisfied, skipping upgrade: pytz>=2017.2 in /usr/local/lib/python3.6/dist-packages (from pandas>=0.21.1->category_encoders) (2018.9)\n",
            "Requirement already satisfied, skipping upgrade: python-dateutil>=2.6.1 in /usr/local/lib/python3.6/dist-packages (from pandas>=0.21.1->category_encoders) (2.8.1)\n",
            "Requirement already satisfied, skipping upgrade: six in /usr/local/lib/python3.6/dist-packages (from patsy>=0.5.1->category_encoders) (1.12.0)\n",
            "Requirement already satisfied, skipping upgrade: joblib>=0.11 in /usr/local/lib/python3.6/dist-packages (from scikit-learn>=0.20.0->category_encoders) (0.15.1)\n",
            "Installing collected packages: category-encoders\n",
            "Successfully installed category-encoders-2.2.2\n"
          ],
          "name": "stdout"
        }
      ]
    },
    {
      "cell_type": "code",
      "metadata": {
        "id": "Tu49npUb2nKD",
        "colab_type": "code",
        "colab": {}
      },
      "source": [
        "encoder=ce.BinaryEncoder(cols=['Product_Brand'])\n",
        "dfbin=encoder.fit_transform(df['Product_Brand'])\n",
        "df=pd.concat([df,dfbin],axis=1)\n",
        "del df['Product_Brand']"
      ],
      "execution_count": null,
      "outputs": []
    },
    {
      "cell_type": "code",
      "metadata": {
        "id": "q4rkZYmyCi2m",
        "colab_type": "code",
        "colab": {}
      },
      "source": [
        "import category_encoders as ce\n",
        "encoder=ce.BinaryEncoder(cols=['Subcategory_2'])\n",
        "dfbin=encoder.fit_transform(df['Subcategory_2'])\n",
        "df=pd.concat([df,dfbin],axis=1)\n",
        "del df['Subcategory_2']"
      ],
      "execution_count": null,
      "outputs": []
    },
    {
      "cell_type": "code",
      "metadata": {
        "id": "xHT9K2vMCy63",
        "colab_type": "code",
        "colab": {}
      },
      "source": [
        "import category_encoders as ce\n",
        "encoder=ce.BinaryEncoder(cols=['PB_S1'])\n",
        "dfbin=encoder.fit_transform(df['PB_S1'])\n",
        "df=pd.concat([df,dfbin],axis=1)\n",
        "del df['PB_S1']"
      ],
      "execution_count": null,
      "outputs": []
    },
    {
      "cell_type": "code",
      "metadata": {
        "id": "sqGdGvvWC2JF",
        "colab_type": "code",
        "colab": {}
      },
      "source": [
        "import category_encoders as ce\n",
        "encoder=ce.BinaryEncoder(cols=['PB_S2'])\n",
        "dfbin=encoder.fit_transform(df['PB_S2'])\n",
        "df=pd.concat([df,dfbin],axis=1)\n",
        "del df['PB_S2']"
      ],
      "execution_count": null,
      "outputs": []
    },
    {
      "cell_type": "code",
      "metadata": {
        "id": "4g__Ut2XC5Tr",
        "colab_type": "code",
        "colab": {}
      },
      "source": [
        "import category_encoders as ce\n",
        "encoder=ce.BinaryEncoder(cols=['IC_S2'])\n",
        "dfbin=encoder.fit_transform(df['IC_S2'])\n",
        "df=pd.concat([df,dfbin],axis=1)\n",
        "del df['IC_S2']"
      ],
      "execution_count": null,
      "outputs": []
    },
    {
      "cell_type": "code",
      "metadata": {
        "id": "7ffSQvefC5HN",
        "colab_type": "code",
        "colab": {
          "base_uri": "https://localhost:8080/",
          "height": 299
        },
        "outputId": "a4edb6e8-de36-45e1-f6ea-34b151af4f6c"
      },
      "source": [
        "df.head()"
      ],
      "execution_count": null,
      "outputs": [
        {
          "output_type": "execute_result",
          "data": {
            "text/html": [
              "<div>\n",
              "<style scoped>\n",
              "    .dataframe tbody tr th:only-of-type {\n",
              "        vertical-align: middle;\n",
              "    }\n",
              "\n",
              "    .dataframe tbody tr th {\n",
              "        vertical-align: top;\n",
              "    }\n",
              "\n",
              "    .dataframe thead th {\n",
              "        text-align: right;\n",
              "    }\n",
              "</style>\n",
              "<table border=\"1\" class=\"dataframe\">\n",
              "  <thead>\n",
              "    <tr style=\"text-align: right;\">\n",
              "      <th></th>\n",
              "      <th>Product</th>\n",
              "      <th>Item_Category</th>\n",
              "      <th>Subcategory_1</th>\n",
              "      <th>Item_Rating</th>\n",
              "      <th>Date</th>\n",
              "      <th>Selling_Price</th>\n",
              "      <th>train_or_test</th>\n",
              "      <th>Month</th>\n",
              "      <th>Day</th>\n",
              "      <th>DayOfyear</th>\n",
              "      <th>Quarter</th>\n",
              "      <th>Is_month_start</th>\n",
              "      <th>IC_S1</th>\n",
              "      <th>S1_S2</th>\n",
              "      <th>Product_Brand_fe</th>\n",
              "      <th>Subcategory_1_fe</th>\n",
              "      <th>Subcategory_2_fe</th>\n",
              "      <th>PB_S2_fe</th>\n",
              "      <th>Product_Brand_0</th>\n",
              "      <th>Product_Brand_1</th>\n",
              "      <th>Product_Brand_2</th>\n",
              "      <th>Product_Brand_3</th>\n",
              "      <th>Product_Brand_4</th>\n",
              "      <th>Product_Brand_5</th>\n",
              "      <th>Product_Brand_6</th>\n",
              "      <th>Product_Brand_7</th>\n",
              "      <th>Product_Brand_8</th>\n",
              "      <th>Product_Brand_9</th>\n",
              "      <th>Product_Brand_10</th>\n",
              "      <th>Product_Brand_11</th>\n",
              "      <th>Subcategory_2_0</th>\n",
              "      <th>Subcategory_2_1</th>\n",
              "      <th>Subcategory_2_2</th>\n",
              "      <th>Subcategory_2_3</th>\n",
              "      <th>Subcategory_2_4</th>\n",
              "      <th>Subcategory_2_5</th>\n",
              "      <th>Subcategory_2_6</th>\n",
              "      <th>Subcategory_2_7</th>\n",
              "      <th>Subcategory_2_8</th>\n",
              "      <th>Subcategory_2_9</th>\n",
              "      <th>PB_S1_0</th>\n",
              "      <th>PB_S1_1</th>\n",
              "      <th>PB_S1_2</th>\n",
              "      <th>PB_S1_3</th>\n",
              "      <th>PB_S1_4</th>\n",
              "      <th>PB_S1_5</th>\n",
              "      <th>PB_S1_6</th>\n",
              "      <th>PB_S1_7</th>\n",
              "      <th>PB_S1_8</th>\n",
              "      <th>PB_S1_9</th>\n",
              "      <th>PB_S1_10</th>\n",
              "      <th>PB_S1_11</th>\n",
              "      <th>PB_S2_0</th>\n",
              "      <th>PB_S2_1</th>\n",
              "      <th>PB_S2_2</th>\n",
              "      <th>PB_S2_3</th>\n",
              "      <th>PB_S2_4</th>\n",
              "      <th>PB_S2_5</th>\n",
              "      <th>PB_S2_6</th>\n",
              "      <th>PB_S2_7</th>\n",
              "      <th>PB_S2_8</th>\n",
              "      <th>PB_S2_9</th>\n",
              "      <th>PB_S2_10</th>\n",
              "      <th>PB_S2_11</th>\n",
              "      <th>IC_S2_0</th>\n",
              "      <th>IC_S2_1</th>\n",
              "      <th>IC_S2_2</th>\n",
              "      <th>IC_S2_3</th>\n",
              "      <th>IC_S2_4</th>\n",
              "      <th>IC_S2_5</th>\n",
              "      <th>IC_S2_6</th>\n",
              "      <th>IC_S2_7</th>\n",
              "      <th>IC_S2_8</th>\n",
              "      <th>IC_S2_9</th>\n",
              "    </tr>\n",
              "  </thead>\n",
              "  <tbody>\n",
              "    <tr>\n",
              "      <th>0</th>\n",
              "      <td>1154</td>\n",
              "      <td>9</td>\n",
              "      <td>11</td>\n",
              "      <td>4.3</td>\n",
              "      <td>2017-02-03</td>\n",
              "      <td>291.0</td>\n",
              "      <td>train</td>\n",
              "      <td>2</td>\n",
              "      <td>3</td>\n",
              "      <td>34</td>\n",
              "      <td>1</td>\n",
              "      <td>False</td>\n",
              "      <td>19</td>\n",
              "      <td>37</td>\n",
              "      <td>0.000285</td>\n",
              "      <td>0.011419</td>\n",
              "      <td>0.004853</td>\n",
              "      <td>0.000285</td>\n",
              "      <td>0</td>\n",
              "      <td>0</td>\n",
              "      <td>0</td>\n",
              "      <td>0</td>\n",
              "      <td>0</td>\n",
              "      <td>0</td>\n",
              "      <td>0</td>\n",
              "      <td>0</td>\n",
              "      <td>0</td>\n",
              "      <td>0</td>\n",
              "      <td>0</td>\n",
              "      <td>1</td>\n",
              "      <td>0</td>\n",
              "      <td>0</td>\n",
              "      <td>0</td>\n",
              "      <td>0</td>\n",
              "      <td>0</td>\n",
              "      <td>0</td>\n",
              "      <td>0</td>\n",
              "      <td>0</td>\n",
              "      <td>0</td>\n",
              "      <td>1</td>\n",
              "      <td>0</td>\n",
              "      <td>0</td>\n",
              "      <td>0</td>\n",
              "      <td>0</td>\n",
              "      <td>0</td>\n",
              "      <td>0</td>\n",
              "      <td>0</td>\n",
              "      <td>0</td>\n",
              "      <td>0</td>\n",
              "      <td>0</td>\n",
              "      <td>0</td>\n",
              "      <td>1</td>\n",
              "      <td>0</td>\n",
              "      <td>0</td>\n",
              "      <td>0</td>\n",
              "      <td>0</td>\n",
              "      <td>0</td>\n",
              "      <td>0</td>\n",
              "      <td>0</td>\n",
              "      <td>0</td>\n",
              "      <td>0</td>\n",
              "      <td>0</td>\n",
              "      <td>0</td>\n",
              "      <td>1</td>\n",
              "      <td>0</td>\n",
              "      <td>0</td>\n",
              "      <td>0</td>\n",
              "      <td>0</td>\n",
              "      <td>0</td>\n",
              "      <td>0</td>\n",
              "      <td>0</td>\n",
              "      <td>0</td>\n",
              "      <td>0</td>\n",
              "      <td>1</td>\n",
              "    </tr>\n",
              "    <tr>\n",
              "      <th>1</th>\n",
              "      <td>1109</td>\n",
              "      <td>17</td>\n",
              "      <td>139</td>\n",
              "      <td>3.1</td>\n",
              "      <td>2015-07-01</td>\n",
              "      <td>897.0</td>\n",
              "      <td>train</td>\n",
              "      <td>7</td>\n",
              "      <td>1</td>\n",
              "      <td>182</td>\n",
              "      <td>3</td>\n",
              "      <td>True</td>\n",
              "      <td>39</td>\n",
              "      <td>376</td>\n",
              "      <td>0.286897</td>\n",
              "      <td>0.198401</td>\n",
              "      <td>0.109620</td>\n",
              "      <td>0.067085</td>\n",
              "      <td>0</td>\n",
              "      <td>0</td>\n",
              "      <td>0</td>\n",
              "      <td>0</td>\n",
              "      <td>0</td>\n",
              "      <td>0</td>\n",
              "      <td>0</td>\n",
              "      <td>0</td>\n",
              "      <td>0</td>\n",
              "      <td>0</td>\n",
              "      <td>1</td>\n",
              "      <td>0</td>\n",
              "      <td>0</td>\n",
              "      <td>0</td>\n",
              "      <td>0</td>\n",
              "      <td>0</td>\n",
              "      <td>0</td>\n",
              "      <td>0</td>\n",
              "      <td>0</td>\n",
              "      <td>0</td>\n",
              "      <td>1</td>\n",
              "      <td>0</td>\n",
              "      <td>0</td>\n",
              "      <td>0</td>\n",
              "      <td>0</td>\n",
              "      <td>0</td>\n",
              "      <td>0</td>\n",
              "      <td>0</td>\n",
              "      <td>0</td>\n",
              "      <td>0</td>\n",
              "      <td>0</td>\n",
              "      <td>0</td>\n",
              "      <td>1</td>\n",
              "      <td>0</td>\n",
              "      <td>0</td>\n",
              "      <td>0</td>\n",
              "      <td>0</td>\n",
              "      <td>0</td>\n",
              "      <td>0</td>\n",
              "      <td>0</td>\n",
              "      <td>0</td>\n",
              "      <td>0</td>\n",
              "      <td>0</td>\n",
              "      <td>0</td>\n",
              "      <td>1</td>\n",
              "      <td>0</td>\n",
              "      <td>0</td>\n",
              "      <td>0</td>\n",
              "      <td>0</td>\n",
              "      <td>0</td>\n",
              "      <td>0</td>\n",
              "      <td>0</td>\n",
              "      <td>0</td>\n",
              "      <td>0</td>\n",
              "      <td>1</td>\n",
              "      <td>0</td>\n",
              "    </tr>\n",
              "    <tr>\n",
              "      <th>2</th>\n",
              "      <td>2499</td>\n",
              "      <td>38</td>\n",
              "      <td>119</td>\n",
              "      <td>3.5</td>\n",
              "      <td>2019-01-12</td>\n",
              "      <td>792.0</td>\n",
              "      <td>train</td>\n",
              "      <td>1</td>\n",
              "      <td>12</td>\n",
              "      <td>12</td>\n",
              "      <td>1</td>\n",
              "      <td>False</td>\n",
              "      <td>86</td>\n",
              "      <td>312</td>\n",
              "      <td>0.000571</td>\n",
              "      <td>0.012846</td>\n",
              "      <td>0.005424</td>\n",
              "      <td>0.000571</td>\n",
              "      <td>0</td>\n",
              "      <td>0</td>\n",
              "      <td>0</td>\n",
              "      <td>0</td>\n",
              "      <td>0</td>\n",
              "      <td>0</td>\n",
              "      <td>0</td>\n",
              "      <td>0</td>\n",
              "      <td>0</td>\n",
              "      <td>0</td>\n",
              "      <td>1</td>\n",
              "      <td>1</td>\n",
              "      <td>0</td>\n",
              "      <td>0</td>\n",
              "      <td>0</td>\n",
              "      <td>0</td>\n",
              "      <td>0</td>\n",
              "      <td>0</td>\n",
              "      <td>0</td>\n",
              "      <td>0</td>\n",
              "      <td>1</td>\n",
              "      <td>1</td>\n",
              "      <td>0</td>\n",
              "      <td>0</td>\n",
              "      <td>0</td>\n",
              "      <td>0</td>\n",
              "      <td>0</td>\n",
              "      <td>0</td>\n",
              "      <td>0</td>\n",
              "      <td>0</td>\n",
              "      <td>0</td>\n",
              "      <td>0</td>\n",
              "      <td>1</td>\n",
              "      <td>1</td>\n",
              "      <td>0</td>\n",
              "      <td>0</td>\n",
              "      <td>0</td>\n",
              "      <td>0</td>\n",
              "      <td>0</td>\n",
              "      <td>0</td>\n",
              "      <td>0</td>\n",
              "      <td>0</td>\n",
              "      <td>0</td>\n",
              "      <td>0</td>\n",
              "      <td>1</td>\n",
              "      <td>1</td>\n",
              "      <td>0</td>\n",
              "      <td>0</td>\n",
              "      <td>0</td>\n",
              "      <td>0</td>\n",
              "      <td>0</td>\n",
              "      <td>0</td>\n",
              "      <td>0</td>\n",
              "      <td>0</td>\n",
              "      <td>1</td>\n",
              "      <td>1</td>\n",
              "    </tr>\n",
              "    <tr>\n",
              "      <th>3</th>\n",
              "      <td>1732</td>\n",
              "      <td>12</td>\n",
              "      <td>40</td>\n",
              "      <td>4.0</td>\n",
              "      <td>2014-12-12</td>\n",
              "      <td>837.0</td>\n",
              "      <td>train</td>\n",
              "      <td>12</td>\n",
              "      <td>12</td>\n",
              "      <td>346</td>\n",
              "      <td>4</td>\n",
              "      <td>False</td>\n",
              "      <td>28</td>\n",
              "      <td>104</td>\n",
              "      <td>0.286897</td>\n",
              "      <td>0.000571</td>\n",
              "      <td>0.000285</td>\n",
              "      <td>0.000285</td>\n",
              "      <td>0</td>\n",
              "      <td>0</td>\n",
              "      <td>0</td>\n",
              "      <td>0</td>\n",
              "      <td>0</td>\n",
              "      <td>0</td>\n",
              "      <td>0</td>\n",
              "      <td>0</td>\n",
              "      <td>0</td>\n",
              "      <td>0</td>\n",
              "      <td>1</td>\n",
              "      <td>0</td>\n",
              "      <td>0</td>\n",
              "      <td>0</td>\n",
              "      <td>0</td>\n",
              "      <td>0</td>\n",
              "      <td>0</td>\n",
              "      <td>0</td>\n",
              "      <td>0</td>\n",
              "      <td>1</td>\n",
              "      <td>0</td>\n",
              "      <td>0</td>\n",
              "      <td>0</td>\n",
              "      <td>0</td>\n",
              "      <td>0</td>\n",
              "      <td>0</td>\n",
              "      <td>0</td>\n",
              "      <td>0</td>\n",
              "      <td>0</td>\n",
              "      <td>0</td>\n",
              "      <td>0</td>\n",
              "      <td>1</td>\n",
              "      <td>0</td>\n",
              "      <td>0</td>\n",
              "      <td>0</td>\n",
              "      <td>0</td>\n",
              "      <td>0</td>\n",
              "      <td>0</td>\n",
              "      <td>0</td>\n",
              "      <td>0</td>\n",
              "      <td>0</td>\n",
              "      <td>0</td>\n",
              "      <td>0</td>\n",
              "      <td>1</td>\n",
              "      <td>0</td>\n",
              "      <td>0</td>\n",
              "      <td>0</td>\n",
              "      <td>0</td>\n",
              "      <td>0</td>\n",
              "      <td>0</td>\n",
              "      <td>0</td>\n",
              "      <td>0</td>\n",
              "      <td>0</td>\n",
              "      <td>1</td>\n",
              "      <td>0</td>\n",
              "      <td>0</td>\n",
              "    </tr>\n",
              "    <tr>\n",
              "      <th>4</th>\n",
              "      <td>3016</td>\n",
              "      <td>17</td>\n",
              "      <td>86</td>\n",
              "      <td>4.3</td>\n",
              "      <td>2013-12-12</td>\n",
              "      <td>470.0</td>\n",
              "      <td>train</td>\n",
              "      <td>12</td>\n",
              "      <td>12</td>\n",
              "      <td>346</td>\n",
              "      <td>4</td>\n",
              "      <td>False</td>\n",
              "      <td>38</td>\n",
              "      <td>205</td>\n",
              "      <td>0.286897</td>\n",
              "      <td>0.069369</td>\n",
              "      <td>0.024836</td>\n",
              "      <td>0.023979</td>\n",
              "      <td>0</td>\n",
              "      <td>0</td>\n",
              "      <td>0</td>\n",
              "      <td>0</td>\n",
              "      <td>0</td>\n",
              "      <td>0</td>\n",
              "      <td>0</td>\n",
              "      <td>0</td>\n",
              "      <td>0</td>\n",
              "      <td>0</td>\n",
              "      <td>1</td>\n",
              "      <td>0</td>\n",
              "      <td>0</td>\n",
              "      <td>0</td>\n",
              "      <td>0</td>\n",
              "      <td>0</td>\n",
              "      <td>0</td>\n",
              "      <td>0</td>\n",
              "      <td>0</td>\n",
              "      <td>1</td>\n",
              "      <td>0</td>\n",
              "      <td>1</td>\n",
              "      <td>0</td>\n",
              "      <td>0</td>\n",
              "      <td>0</td>\n",
              "      <td>0</td>\n",
              "      <td>0</td>\n",
              "      <td>0</td>\n",
              "      <td>0</td>\n",
              "      <td>0</td>\n",
              "      <td>0</td>\n",
              "      <td>1</td>\n",
              "      <td>0</td>\n",
              "      <td>1</td>\n",
              "      <td>0</td>\n",
              "      <td>0</td>\n",
              "      <td>0</td>\n",
              "      <td>0</td>\n",
              "      <td>0</td>\n",
              "      <td>0</td>\n",
              "      <td>0</td>\n",
              "      <td>0</td>\n",
              "      <td>0</td>\n",
              "      <td>1</td>\n",
              "      <td>0</td>\n",
              "      <td>1</td>\n",
              "      <td>0</td>\n",
              "      <td>0</td>\n",
              "      <td>0</td>\n",
              "      <td>0</td>\n",
              "      <td>0</td>\n",
              "      <td>0</td>\n",
              "      <td>0</td>\n",
              "      <td>1</td>\n",
              "      <td>0</td>\n",
              "      <td>1</td>\n",
              "    </tr>\n",
              "  </tbody>\n",
              "</table>\n",
              "</div>"
            ],
            "text/plain": [
              "   Product  Item_Category  Subcategory_1  Item_Rating       Date  \\\n",
              "0     1154              9             11          4.3 2017-02-03   \n",
              "1     1109             17            139          3.1 2015-07-01   \n",
              "2     2499             38            119          3.5 2019-01-12   \n",
              "3     1732             12             40          4.0 2014-12-12   \n",
              "4     3016             17             86          4.3 2013-12-12   \n",
              "\n",
              "   Selling_Price train_or_test  Month  Day  DayOfyear  Quarter  \\\n",
              "0          291.0         train      2    3         34        1   \n",
              "1          897.0         train      7    1        182        3   \n",
              "2          792.0         train      1   12         12        1   \n",
              "3          837.0         train     12   12        346        4   \n",
              "4          470.0         train     12   12        346        4   \n",
              "\n",
              "   Is_month_start  IC_S1  S1_S2  Product_Brand_fe  Subcategory_1_fe  \\\n",
              "0           False     19     37          0.000285          0.011419   \n",
              "1            True     39    376          0.286897          0.198401   \n",
              "2           False     86    312          0.000571          0.012846   \n",
              "3           False     28    104          0.286897          0.000571   \n",
              "4           False     38    205          0.286897          0.069369   \n",
              "\n",
              "   Subcategory_2_fe  PB_S2_fe  Product_Brand_0  Product_Brand_1  \\\n",
              "0          0.004853  0.000285                0                0   \n",
              "1          0.109620  0.067085                0                0   \n",
              "2          0.005424  0.000571                0                0   \n",
              "3          0.000285  0.000285                0                0   \n",
              "4          0.024836  0.023979                0                0   \n",
              "\n",
              "   Product_Brand_2  Product_Brand_3  Product_Brand_4  Product_Brand_5  \\\n",
              "0                0                0                0                0   \n",
              "1                0                0                0                0   \n",
              "2                0                0                0                0   \n",
              "3                0                0                0                0   \n",
              "4                0                0                0                0   \n",
              "\n",
              "   Product_Brand_6  Product_Brand_7  Product_Brand_8  Product_Brand_9  \\\n",
              "0                0                0                0                0   \n",
              "1                0                0                0                0   \n",
              "2                0                0                0                0   \n",
              "3                0                0                0                0   \n",
              "4                0                0                0                0   \n",
              "\n",
              "   Product_Brand_10  Product_Brand_11  Subcategory_2_0  Subcategory_2_1  \\\n",
              "0                 0                 1                0                0   \n",
              "1                 1                 0                0                0   \n",
              "2                 1                 1                0                0   \n",
              "3                 1                 0                0                0   \n",
              "4                 1                 0                0                0   \n",
              "\n",
              "   Subcategory_2_2  Subcategory_2_3  Subcategory_2_4  Subcategory_2_5  \\\n",
              "0                0                0                0                0   \n",
              "1                0                0                0                0   \n",
              "2                0                0                0                0   \n",
              "3                0                0                0                0   \n",
              "4                0                0                0                0   \n",
              "\n",
              "   Subcategory_2_6  Subcategory_2_7  Subcategory_2_8  Subcategory_2_9  \\\n",
              "0                0                0                0                1   \n",
              "1                0                0                1                0   \n",
              "2                0                0                1                1   \n",
              "3                0                1                0                0   \n",
              "4                0                1                0                1   \n",
              "\n",
              "   PB_S1_0  PB_S1_1  PB_S1_2  PB_S1_3  PB_S1_4  PB_S1_5  PB_S1_6  PB_S1_7  \\\n",
              "0        0        0        0        0        0        0        0        0   \n",
              "1        0        0        0        0        0        0        0        0   \n",
              "2        0        0        0        0        0        0        0        0   \n",
              "3        0        0        0        0        0        0        0        0   \n",
              "4        0        0        0        0        0        0        0        0   \n",
              "\n",
              "   PB_S1_8  PB_S1_9  PB_S1_10  PB_S1_11  PB_S2_0  PB_S2_1  PB_S2_2  PB_S2_3  \\\n",
              "0        0        0         0         1        0        0        0        0   \n",
              "1        0        0         1         0        0        0        0        0   \n",
              "2        0        0         1         1        0        0        0        0   \n",
              "3        0        1         0         0        0        0        0        0   \n",
              "4        0        1         0         1        0        0        0        0   \n",
              "\n",
              "   PB_S2_4  PB_S2_5  PB_S2_6  PB_S2_7  PB_S2_8  PB_S2_9  PB_S2_10  PB_S2_11  \\\n",
              "0        0        0        0        0        0        0         0         1   \n",
              "1        0        0        0        0        0        0         1         0   \n",
              "2        0        0        0        0        0        0         1         1   \n",
              "3        0        0        0        0        0        1         0         0   \n",
              "4        0        0        0        0        0        1         0         1   \n",
              "\n",
              "   IC_S2_0  IC_S2_1  IC_S2_2  IC_S2_3  IC_S2_4  IC_S2_5  IC_S2_6  IC_S2_7  \\\n",
              "0        0        0        0        0        0        0        0        0   \n",
              "1        0        0        0        0        0        0        0        0   \n",
              "2        0        0        0        0        0        0        0        0   \n",
              "3        0        0        0        0        0        0        0        1   \n",
              "4        0        0        0        0        0        0        0        1   \n",
              "\n",
              "   IC_S2_8  IC_S2_9  \n",
              "0        0        1  \n",
              "1        1        0  \n",
              "2        1        1  \n",
              "3        0        0  \n",
              "4        0        1  "
            ]
          },
          "metadata": {
            "tags": []
          },
          "execution_count": 37
        }
      ]
    },
    {
      "cell_type": "markdown",
      "metadata": {
        "id": "wRg8R221Q4f8",
        "colab_type": "text"
      },
      "source": [
        "# Getting Train and test"
      ]
    },
    {
      "cell_type": "code",
      "metadata": {
        "id": "PDYV8hGz2nHQ",
        "colab_type": "code",
        "colab": {}
      },
      "source": [
        "train=df.loc[df.train_or_test.isin(['train'])]\n",
        "test=df.loc[df.train_or_test.isin(['test'])]\n",
        "train.drop(columns={'train_or_test'},axis=1,inplace=True)\n",
        "test.drop(columns={'train_or_test'},axis=1,inplace=True)"
      ],
      "execution_count": null,
      "outputs": []
    },
    {
      "cell_type": "code",
      "metadata": {
        "id": "B0E0Yk3wDEZE",
        "colab_type": "code",
        "colab": {}
      },
      "source": [
        "train['Selling_Price']=np.log(train['Selling_Price'])"
      ],
      "execution_count": null,
      "outputs": []
    },
    {
      "cell_type": "code",
      "metadata": {
        "id": "5eZBgxevRqk6",
        "colab_type": "code",
        "colab": {}
      },
      "source": [
        "x=train.drop(columns={'Selling_Price','Date'},axis=1)\n",
        "y=train['Selling_Price']\n",
        "test=test.drop(columns={'Selling_Price','Date'},axis=1)"
      ],
      "execution_count": null,
      "outputs": []
    },
    {
      "cell_type": "code",
      "metadata": {
        "id": "AHXzIkycNxi6",
        "colab_type": "code",
        "colab": {}
      },
      "source": [
        ""
      ],
      "execution_count": null,
      "outputs": []
    },
    {
      "cell_type": "markdown",
      "metadata": {
        "id": "YddYHINKRG_y",
        "colab_type": "text"
      },
      "source": [
        "#Standard Scaling"
      ]
    },
    {
      "cell_type": "code",
      "metadata": {
        "id": "UdPMdjPNRL0B",
        "colab_type": "code",
        "colab": {}
      },
      "source": [
        "col = []\n",
        "for features in x.select_dtypes(include=['int64','float64']):\n",
        "    if features not in ['Selling_Price']:\n",
        "        col.append(features)\n",
        "from sklearn.preprocessing import MinMaxScaler\n",
        "mm=MinMaxScaler()\n",
        "x[col] = mm.fit_transform(x[col].values)\n",
        "test[col] = mm.fit_transform(test[col].values)"
      ],
      "execution_count": null,
      "outputs": []
    },
    {
      "cell_type": "code",
      "metadata": {
        "id": "mhpQ3gNZXWkH",
        "colab_type": "code",
        "colab": {}
      },
      "source": [
        "# train_modified = train.to_csv(datapath+'/ModifiedTrain.csv',index =False) \n",
        "# test_modified = test.to_csv(datapath+'/ModifiedTest.csv',index =False)"
      ],
      "execution_count": null,
      "outputs": []
    },
    {
      "cell_type": "code",
      "metadata": {
        "id": "4th7ei62nmv-",
        "colab_type": "code",
        "colab": {
          "base_uri": "https://localhost:8080/",
          "height": 1000
        },
        "outputId": "8acee7c0-48bc-469a-d841-d375b8620208"
      },
      "source": [
        "train.isnull().sum()"
      ],
      "execution_count": null,
      "outputs": [
        {
          "output_type": "execute_result",
          "data": {
            "text/plain": [
              "Product             0\n",
              "Item_Category       0\n",
              "Subcategory_1       0\n",
              "Item_Rating         0\n",
              "Date                0\n",
              "Selling_Price       0\n",
              "Month               0\n",
              "Day                 0\n",
              "DayOfyear           0\n",
              "Quarter             0\n",
              "Is_month_start      0\n",
              "IC_S1               0\n",
              "S1_S2               0\n",
              "Product_Brand_fe    0\n",
              "Subcategory_1_fe    0\n",
              "Subcategory_2_fe    0\n",
              "PB_S2_fe            0\n",
              "Product_Brand_0     0\n",
              "Product_Brand_1     0\n",
              "Product_Brand_2     0\n",
              "Product_Brand_3     0\n",
              "Product_Brand_4     0\n",
              "Product_Brand_5     0\n",
              "Product_Brand_6     0\n",
              "Product_Brand_7     0\n",
              "Product_Brand_8     0\n",
              "Product_Brand_9     0\n",
              "Product_Brand_10    0\n",
              "Product_Brand_11    0\n",
              "Subcategory_2_0     0\n",
              "Subcategory_2_1     0\n",
              "Subcategory_2_2     0\n",
              "Subcategory_2_3     0\n",
              "Subcategory_2_4     0\n",
              "Subcategory_2_5     0\n",
              "Subcategory_2_6     0\n",
              "Subcategory_2_7     0\n",
              "Subcategory_2_8     0\n",
              "Subcategory_2_9     0\n",
              "PB_S1_0             0\n",
              "PB_S1_1             0\n",
              "PB_S1_2             0\n",
              "PB_S1_3             0\n",
              "PB_S1_4             0\n",
              "PB_S1_5             0\n",
              "PB_S1_6             0\n",
              "PB_S1_7             0\n",
              "PB_S1_8             0\n",
              "PB_S1_9             0\n",
              "PB_S1_10            0\n",
              "PB_S1_11            0\n",
              "PB_S2_0             0\n",
              "PB_S2_1             0\n",
              "PB_S2_2             0\n",
              "PB_S2_3             0\n",
              "PB_S2_4             0\n",
              "PB_S2_5             0\n",
              "PB_S2_6             0\n",
              "PB_S2_7             0\n",
              "PB_S2_8             0\n",
              "PB_S2_9             0\n",
              "PB_S2_10            0\n",
              "PB_S2_11            0\n",
              "IC_S2_0             0\n",
              "IC_S2_1             0\n",
              "IC_S2_2             0\n",
              "IC_S2_3             0\n",
              "IC_S2_4             0\n",
              "IC_S2_5             0\n",
              "IC_S2_6             0\n",
              "IC_S2_7             0\n",
              "IC_S2_8             0\n",
              "IC_S2_9             0\n",
              "dtype: int64"
            ]
          },
          "metadata": {
            "tags": []
          },
          "execution_count": 43
        }
      ]
    },
    {
      "cell_type": "code",
      "metadata": {
        "id": "O-UyD1wboD0a",
        "colab_type": "code",
        "colab": {
          "base_uri": "https://localhost:8080/",
          "height": 1000
        },
        "outputId": "c94f02e5-2cc4-4998-faba-420e75fac0a7"
      },
      "source": [
        "test.isnull().sum()"
      ],
      "execution_count": null,
      "outputs": [
        {
          "output_type": "execute_result",
          "data": {
            "text/plain": [
              "Product             0\n",
              "Item_Category       0\n",
              "Subcategory_1       0\n",
              "Item_Rating         0\n",
              "Month               0\n",
              "Day                 0\n",
              "DayOfyear           0\n",
              "Quarter             0\n",
              "Is_month_start      0\n",
              "IC_S1               0\n",
              "S1_S2               0\n",
              "Product_Brand_fe    0\n",
              "Subcategory_1_fe    0\n",
              "Subcategory_2_fe    0\n",
              "PB_S2_fe            0\n",
              "Product_Brand_0     0\n",
              "Product_Brand_1     0\n",
              "Product_Brand_2     0\n",
              "Product_Brand_3     0\n",
              "Product_Brand_4     0\n",
              "Product_Brand_5     0\n",
              "Product_Brand_6     0\n",
              "Product_Brand_7     0\n",
              "Product_Brand_8     0\n",
              "Product_Brand_9     0\n",
              "Product_Brand_10    0\n",
              "Product_Brand_11    0\n",
              "Subcategory_2_0     0\n",
              "Subcategory_2_1     0\n",
              "Subcategory_2_2     0\n",
              "Subcategory_2_3     0\n",
              "Subcategory_2_4     0\n",
              "Subcategory_2_5     0\n",
              "Subcategory_2_6     0\n",
              "Subcategory_2_7     0\n",
              "Subcategory_2_8     0\n",
              "Subcategory_2_9     0\n",
              "PB_S1_0             0\n",
              "PB_S1_1             0\n",
              "PB_S1_2             0\n",
              "PB_S1_3             0\n",
              "PB_S1_4             0\n",
              "PB_S1_5             0\n",
              "PB_S1_6             0\n",
              "PB_S1_7             0\n",
              "PB_S1_8             0\n",
              "PB_S1_9             0\n",
              "PB_S1_10            0\n",
              "PB_S1_11            0\n",
              "PB_S2_0             0\n",
              "PB_S2_1             0\n",
              "PB_S2_2             0\n",
              "PB_S2_3             0\n",
              "PB_S2_4             0\n",
              "PB_S2_5             0\n",
              "PB_S2_6             0\n",
              "PB_S2_7             0\n",
              "PB_S2_8             0\n",
              "PB_S2_9             0\n",
              "PB_S2_10            0\n",
              "PB_S2_11            0\n",
              "IC_S2_0             0\n",
              "IC_S2_1             0\n",
              "IC_S2_2             0\n",
              "IC_S2_3             0\n",
              "IC_S2_4             0\n",
              "IC_S2_5             0\n",
              "IC_S2_6             0\n",
              "IC_S2_7             0\n",
              "IC_S2_8             0\n",
              "IC_S2_9             0\n",
              "dtype: int64"
            ]
          },
          "metadata": {
            "tags": []
          },
          "execution_count": 44
        }
      ]
    },
    {
      "cell_type": "code",
      "metadata": {
        "id": "ugg3NQeQoHcH",
        "colab_type": "code",
        "colab": {
          "base_uri": "https://localhost:8080/",
          "height": 299
        },
        "outputId": "6beb9595-a69b-4b69-9c71-a70b6b20a1d9"
      },
      "source": [
        "train.head()"
      ],
      "execution_count": null,
      "outputs": [
        {
          "output_type": "execute_result",
          "data": {
            "text/html": [
              "<div>\n",
              "<style scoped>\n",
              "    .dataframe tbody tr th:only-of-type {\n",
              "        vertical-align: middle;\n",
              "    }\n",
              "\n",
              "    .dataframe tbody tr th {\n",
              "        vertical-align: top;\n",
              "    }\n",
              "\n",
              "    .dataframe thead th {\n",
              "        text-align: right;\n",
              "    }\n",
              "</style>\n",
              "<table border=\"1\" class=\"dataframe\">\n",
              "  <thead>\n",
              "    <tr style=\"text-align: right;\">\n",
              "      <th></th>\n",
              "      <th>Product</th>\n",
              "      <th>Item_Category</th>\n",
              "      <th>Subcategory_1</th>\n",
              "      <th>Item_Rating</th>\n",
              "      <th>Date</th>\n",
              "      <th>Selling_Price</th>\n",
              "      <th>Month</th>\n",
              "      <th>Day</th>\n",
              "      <th>DayOfyear</th>\n",
              "      <th>Quarter</th>\n",
              "      <th>Is_month_start</th>\n",
              "      <th>IC_S1</th>\n",
              "      <th>S1_S2</th>\n",
              "      <th>Product_Brand_fe</th>\n",
              "      <th>Subcategory_1_fe</th>\n",
              "      <th>Subcategory_2_fe</th>\n",
              "      <th>PB_S2_fe</th>\n",
              "      <th>Product_Brand_0</th>\n",
              "      <th>Product_Brand_1</th>\n",
              "      <th>Product_Brand_2</th>\n",
              "      <th>Product_Brand_3</th>\n",
              "      <th>Product_Brand_4</th>\n",
              "      <th>Product_Brand_5</th>\n",
              "      <th>Product_Brand_6</th>\n",
              "      <th>Product_Brand_7</th>\n",
              "      <th>Product_Brand_8</th>\n",
              "      <th>Product_Brand_9</th>\n",
              "      <th>Product_Brand_10</th>\n",
              "      <th>Product_Brand_11</th>\n",
              "      <th>Subcategory_2_0</th>\n",
              "      <th>Subcategory_2_1</th>\n",
              "      <th>Subcategory_2_2</th>\n",
              "      <th>Subcategory_2_3</th>\n",
              "      <th>Subcategory_2_4</th>\n",
              "      <th>Subcategory_2_5</th>\n",
              "      <th>Subcategory_2_6</th>\n",
              "      <th>Subcategory_2_7</th>\n",
              "      <th>Subcategory_2_8</th>\n",
              "      <th>Subcategory_2_9</th>\n",
              "      <th>PB_S1_0</th>\n",
              "      <th>PB_S1_1</th>\n",
              "      <th>PB_S1_2</th>\n",
              "      <th>PB_S1_3</th>\n",
              "      <th>PB_S1_4</th>\n",
              "      <th>PB_S1_5</th>\n",
              "      <th>PB_S1_6</th>\n",
              "      <th>PB_S1_7</th>\n",
              "      <th>PB_S1_8</th>\n",
              "      <th>PB_S1_9</th>\n",
              "      <th>PB_S1_10</th>\n",
              "      <th>PB_S1_11</th>\n",
              "      <th>PB_S2_0</th>\n",
              "      <th>PB_S2_1</th>\n",
              "      <th>PB_S2_2</th>\n",
              "      <th>PB_S2_3</th>\n",
              "      <th>PB_S2_4</th>\n",
              "      <th>PB_S2_5</th>\n",
              "      <th>PB_S2_6</th>\n",
              "      <th>PB_S2_7</th>\n",
              "      <th>PB_S2_8</th>\n",
              "      <th>PB_S2_9</th>\n",
              "      <th>PB_S2_10</th>\n",
              "      <th>PB_S2_11</th>\n",
              "      <th>IC_S2_0</th>\n",
              "      <th>IC_S2_1</th>\n",
              "      <th>IC_S2_2</th>\n",
              "      <th>IC_S2_3</th>\n",
              "      <th>IC_S2_4</th>\n",
              "      <th>IC_S2_5</th>\n",
              "      <th>IC_S2_6</th>\n",
              "      <th>IC_S2_7</th>\n",
              "      <th>IC_S2_8</th>\n",
              "      <th>IC_S2_9</th>\n",
              "    </tr>\n",
              "  </thead>\n",
              "  <tbody>\n",
              "    <tr>\n",
              "      <th>0</th>\n",
              "      <td>1154</td>\n",
              "      <td>9</td>\n",
              "      <td>11</td>\n",
              "      <td>4.3</td>\n",
              "      <td>2017-02-03</td>\n",
              "      <td>5.673323</td>\n",
              "      <td>2</td>\n",
              "      <td>3</td>\n",
              "      <td>34</td>\n",
              "      <td>1</td>\n",
              "      <td>False</td>\n",
              "      <td>19</td>\n",
              "      <td>37</td>\n",
              "      <td>0.000285</td>\n",
              "      <td>0.011419</td>\n",
              "      <td>0.004853</td>\n",
              "      <td>0.000285</td>\n",
              "      <td>0</td>\n",
              "      <td>0</td>\n",
              "      <td>0</td>\n",
              "      <td>0</td>\n",
              "      <td>0</td>\n",
              "      <td>0</td>\n",
              "      <td>0</td>\n",
              "      <td>0</td>\n",
              "      <td>0</td>\n",
              "      <td>0</td>\n",
              "      <td>0</td>\n",
              "      <td>1</td>\n",
              "      <td>0</td>\n",
              "      <td>0</td>\n",
              "      <td>0</td>\n",
              "      <td>0</td>\n",
              "      <td>0</td>\n",
              "      <td>0</td>\n",
              "      <td>0</td>\n",
              "      <td>0</td>\n",
              "      <td>0</td>\n",
              "      <td>1</td>\n",
              "      <td>0</td>\n",
              "      <td>0</td>\n",
              "      <td>0</td>\n",
              "      <td>0</td>\n",
              "      <td>0</td>\n",
              "      <td>0</td>\n",
              "      <td>0</td>\n",
              "      <td>0</td>\n",
              "      <td>0</td>\n",
              "      <td>0</td>\n",
              "      <td>0</td>\n",
              "      <td>1</td>\n",
              "      <td>0</td>\n",
              "      <td>0</td>\n",
              "      <td>0</td>\n",
              "      <td>0</td>\n",
              "      <td>0</td>\n",
              "      <td>0</td>\n",
              "      <td>0</td>\n",
              "      <td>0</td>\n",
              "      <td>0</td>\n",
              "      <td>0</td>\n",
              "      <td>0</td>\n",
              "      <td>1</td>\n",
              "      <td>0</td>\n",
              "      <td>0</td>\n",
              "      <td>0</td>\n",
              "      <td>0</td>\n",
              "      <td>0</td>\n",
              "      <td>0</td>\n",
              "      <td>0</td>\n",
              "      <td>0</td>\n",
              "      <td>0</td>\n",
              "      <td>1</td>\n",
              "    </tr>\n",
              "    <tr>\n",
              "      <th>1</th>\n",
              "      <td>1109</td>\n",
              "      <td>17</td>\n",
              "      <td>139</td>\n",
              "      <td>3.1</td>\n",
              "      <td>2015-07-01</td>\n",
              "      <td>6.799056</td>\n",
              "      <td>7</td>\n",
              "      <td>1</td>\n",
              "      <td>182</td>\n",
              "      <td>3</td>\n",
              "      <td>True</td>\n",
              "      <td>39</td>\n",
              "      <td>376</td>\n",
              "      <td>0.286897</td>\n",
              "      <td>0.198401</td>\n",
              "      <td>0.109620</td>\n",
              "      <td>0.067085</td>\n",
              "      <td>0</td>\n",
              "      <td>0</td>\n",
              "      <td>0</td>\n",
              "      <td>0</td>\n",
              "      <td>0</td>\n",
              "      <td>0</td>\n",
              "      <td>0</td>\n",
              "      <td>0</td>\n",
              "      <td>0</td>\n",
              "      <td>0</td>\n",
              "      <td>1</td>\n",
              "      <td>0</td>\n",
              "      <td>0</td>\n",
              "      <td>0</td>\n",
              "      <td>0</td>\n",
              "      <td>0</td>\n",
              "      <td>0</td>\n",
              "      <td>0</td>\n",
              "      <td>0</td>\n",
              "      <td>0</td>\n",
              "      <td>1</td>\n",
              "      <td>0</td>\n",
              "      <td>0</td>\n",
              "      <td>0</td>\n",
              "      <td>0</td>\n",
              "      <td>0</td>\n",
              "      <td>0</td>\n",
              "      <td>0</td>\n",
              "      <td>0</td>\n",
              "      <td>0</td>\n",
              "      <td>0</td>\n",
              "      <td>0</td>\n",
              "      <td>1</td>\n",
              "      <td>0</td>\n",
              "      <td>0</td>\n",
              "      <td>0</td>\n",
              "      <td>0</td>\n",
              "      <td>0</td>\n",
              "      <td>0</td>\n",
              "      <td>0</td>\n",
              "      <td>0</td>\n",
              "      <td>0</td>\n",
              "      <td>0</td>\n",
              "      <td>0</td>\n",
              "      <td>1</td>\n",
              "      <td>0</td>\n",
              "      <td>0</td>\n",
              "      <td>0</td>\n",
              "      <td>0</td>\n",
              "      <td>0</td>\n",
              "      <td>0</td>\n",
              "      <td>0</td>\n",
              "      <td>0</td>\n",
              "      <td>0</td>\n",
              "      <td>1</td>\n",
              "      <td>0</td>\n",
              "    </tr>\n",
              "    <tr>\n",
              "      <th>2</th>\n",
              "      <td>2499</td>\n",
              "      <td>38</td>\n",
              "      <td>119</td>\n",
              "      <td>3.5</td>\n",
              "      <td>2019-01-12</td>\n",
              "      <td>6.674561</td>\n",
              "      <td>1</td>\n",
              "      <td>12</td>\n",
              "      <td>12</td>\n",
              "      <td>1</td>\n",
              "      <td>False</td>\n",
              "      <td>86</td>\n",
              "      <td>312</td>\n",
              "      <td>0.000571</td>\n",
              "      <td>0.012846</td>\n",
              "      <td>0.005424</td>\n",
              "      <td>0.000571</td>\n",
              "      <td>0</td>\n",
              "      <td>0</td>\n",
              "      <td>0</td>\n",
              "      <td>0</td>\n",
              "      <td>0</td>\n",
              "      <td>0</td>\n",
              "      <td>0</td>\n",
              "      <td>0</td>\n",
              "      <td>0</td>\n",
              "      <td>0</td>\n",
              "      <td>1</td>\n",
              "      <td>1</td>\n",
              "      <td>0</td>\n",
              "      <td>0</td>\n",
              "      <td>0</td>\n",
              "      <td>0</td>\n",
              "      <td>0</td>\n",
              "      <td>0</td>\n",
              "      <td>0</td>\n",
              "      <td>0</td>\n",
              "      <td>1</td>\n",
              "      <td>1</td>\n",
              "      <td>0</td>\n",
              "      <td>0</td>\n",
              "      <td>0</td>\n",
              "      <td>0</td>\n",
              "      <td>0</td>\n",
              "      <td>0</td>\n",
              "      <td>0</td>\n",
              "      <td>0</td>\n",
              "      <td>0</td>\n",
              "      <td>0</td>\n",
              "      <td>1</td>\n",
              "      <td>1</td>\n",
              "      <td>0</td>\n",
              "      <td>0</td>\n",
              "      <td>0</td>\n",
              "      <td>0</td>\n",
              "      <td>0</td>\n",
              "      <td>0</td>\n",
              "      <td>0</td>\n",
              "      <td>0</td>\n",
              "      <td>0</td>\n",
              "      <td>0</td>\n",
              "      <td>1</td>\n",
              "      <td>1</td>\n",
              "      <td>0</td>\n",
              "      <td>0</td>\n",
              "      <td>0</td>\n",
              "      <td>0</td>\n",
              "      <td>0</td>\n",
              "      <td>0</td>\n",
              "      <td>0</td>\n",
              "      <td>0</td>\n",
              "      <td>1</td>\n",
              "      <td>1</td>\n",
              "    </tr>\n",
              "    <tr>\n",
              "      <th>3</th>\n",
              "      <td>1732</td>\n",
              "      <td>12</td>\n",
              "      <td>40</td>\n",
              "      <td>4.0</td>\n",
              "      <td>2014-12-12</td>\n",
              "      <td>6.729824</td>\n",
              "      <td>12</td>\n",
              "      <td>12</td>\n",
              "      <td>346</td>\n",
              "      <td>4</td>\n",
              "      <td>False</td>\n",
              "      <td>28</td>\n",
              "      <td>104</td>\n",
              "      <td>0.286897</td>\n",
              "      <td>0.000571</td>\n",
              "      <td>0.000285</td>\n",
              "      <td>0.000285</td>\n",
              "      <td>0</td>\n",
              "      <td>0</td>\n",
              "      <td>0</td>\n",
              "      <td>0</td>\n",
              "      <td>0</td>\n",
              "      <td>0</td>\n",
              "      <td>0</td>\n",
              "      <td>0</td>\n",
              "      <td>0</td>\n",
              "      <td>0</td>\n",
              "      <td>1</td>\n",
              "      <td>0</td>\n",
              "      <td>0</td>\n",
              "      <td>0</td>\n",
              "      <td>0</td>\n",
              "      <td>0</td>\n",
              "      <td>0</td>\n",
              "      <td>0</td>\n",
              "      <td>0</td>\n",
              "      <td>1</td>\n",
              "      <td>0</td>\n",
              "      <td>0</td>\n",
              "      <td>0</td>\n",
              "      <td>0</td>\n",
              "      <td>0</td>\n",
              "      <td>0</td>\n",
              "      <td>0</td>\n",
              "      <td>0</td>\n",
              "      <td>0</td>\n",
              "      <td>0</td>\n",
              "      <td>0</td>\n",
              "      <td>1</td>\n",
              "      <td>0</td>\n",
              "      <td>0</td>\n",
              "      <td>0</td>\n",
              "      <td>0</td>\n",
              "      <td>0</td>\n",
              "      <td>0</td>\n",
              "      <td>0</td>\n",
              "      <td>0</td>\n",
              "      <td>0</td>\n",
              "      <td>0</td>\n",
              "      <td>0</td>\n",
              "      <td>1</td>\n",
              "      <td>0</td>\n",
              "      <td>0</td>\n",
              "      <td>0</td>\n",
              "      <td>0</td>\n",
              "      <td>0</td>\n",
              "      <td>0</td>\n",
              "      <td>0</td>\n",
              "      <td>0</td>\n",
              "      <td>0</td>\n",
              "      <td>1</td>\n",
              "      <td>0</td>\n",
              "      <td>0</td>\n",
              "    </tr>\n",
              "    <tr>\n",
              "      <th>4</th>\n",
              "      <td>3016</td>\n",
              "      <td>17</td>\n",
              "      <td>86</td>\n",
              "      <td>4.3</td>\n",
              "      <td>2013-12-12</td>\n",
              "      <td>6.152733</td>\n",
              "      <td>12</td>\n",
              "      <td>12</td>\n",
              "      <td>346</td>\n",
              "      <td>4</td>\n",
              "      <td>False</td>\n",
              "      <td>38</td>\n",
              "      <td>205</td>\n",
              "      <td>0.286897</td>\n",
              "      <td>0.069369</td>\n",
              "      <td>0.024836</td>\n",
              "      <td>0.023979</td>\n",
              "      <td>0</td>\n",
              "      <td>0</td>\n",
              "      <td>0</td>\n",
              "      <td>0</td>\n",
              "      <td>0</td>\n",
              "      <td>0</td>\n",
              "      <td>0</td>\n",
              "      <td>0</td>\n",
              "      <td>0</td>\n",
              "      <td>0</td>\n",
              "      <td>1</td>\n",
              "      <td>0</td>\n",
              "      <td>0</td>\n",
              "      <td>0</td>\n",
              "      <td>0</td>\n",
              "      <td>0</td>\n",
              "      <td>0</td>\n",
              "      <td>0</td>\n",
              "      <td>0</td>\n",
              "      <td>1</td>\n",
              "      <td>0</td>\n",
              "      <td>1</td>\n",
              "      <td>0</td>\n",
              "      <td>0</td>\n",
              "      <td>0</td>\n",
              "      <td>0</td>\n",
              "      <td>0</td>\n",
              "      <td>0</td>\n",
              "      <td>0</td>\n",
              "      <td>0</td>\n",
              "      <td>0</td>\n",
              "      <td>1</td>\n",
              "      <td>0</td>\n",
              "      <td>1</td>\n",
              "      <td>0</td>\n",
              "      <td>0</td>\n",
              "      <td>0</td>\n",
              "      <td>0</td>\n",
              "      <td>0</td>\n",
              "      <td>0</td>\n",
              "      <td>0</td>\n",
              "      <td>0</td>\n",
              "      <td>0</td>\n",
              "      <td>1</td>\n",
              "      <td>0</td>\n",
              "      <td>1</td>\n",
              "      <td>0</td>\n",
              "      <td>0</td>\n",
              "      <td>0</td>\n",
              "      <td>0</td>\n",
              "      <td>0</td>\n",
              "      <td>0</td>\n",
              "      <td>0</td>\n",
              "      <td>1</td>\n",
              "      <td>0</td>\n",
              "      <td>1</td>\n",
              "    </tr>\n",
              "  </tbody>\n",
              "</table>\n",
              "</div>"
            ],
            "text/plain": [
              "   Product  Item_Category  Subcategory_1  Item_Rating       Date  \\\n",
              "0     1154              9             11          4.3 2017-02-03   \n",
              "1     1109             17            139          3.1 2015-07-01   \n",
              "2     2499             38            119          3.5 2019-01-12   \n",
              "3     1732             12             40          4.0 2014-12-12   \n",
              "4     3016             17             86          4.3 2013-12-12   \n",
              "\n",
              "   Selling_Price  Month  Day  DayOfyear  Quarter  Is_month_start  IC_S1  \\\n",
              "0       5.673323      2    3         34        1           False     19   \n",
              "1       6.799056      7    1        182        3            True     39   \n",
              "2       6.674561      1   12         12        1           False     86   \n",
              "3       6.729824     12   12        346        4           False     28   \n",
              "4       6.152733     12   12        346        4           False     38   \n",
              "\n",
              "   S1_S2  Product_Brand_fe  Subcategory_1_fe  Subcategory_2_fe  PB_S2_fe  \\\n",
              "0     37          0.000285          0.011419          0.004853  0.000285   \n",
              "1    376          0.286897          0.198401          0.109620  0.067085   \n",
              "2    312          0.000571          0.012846          0.005424  0.000571   \n",
              "3    104          0.286897          0.000571          0.000285  0.000285   \n",
              "4    205          0.286897          0.069369          0.024836  0.023979   \n",
              "\n",
              "   Product_Brand_0  Product_Brand_1  Product_Brand_2  Product_Brand_3  \\\n",
              "0                0                0                0                0   \n",
              "1                0                0                0                0   \n",
              "2                0                0                0                0   \n",
              "3                0                0                0                0   \n",
              "4                0                0                0                0   \n",
              "\n",
              "   Product_Brand_4  Product_Brand_5  Product_Brand_6  Product_Brand_7  \\\n",
              "0                0                0                0                0   \n",
              "1                0                0                0                0   \n",
              "2                0                0                0                0   \n",
              "3                0                0                0                0   \n",
              "4                0                0                0                0   \n",
              "\n",
              "   Product_Brand_8  Product_Brand_9  Product_Brand_10  Product_Brand_11  \\\n",
              "0                0                0                 0                 1   \n",
              "1                0                0                 1                 0   \n",
              "2                0                0                 1                 1   \n",
              "3                0                0                 1                 0   \n",
              "4                0                0                 1                 0   \n",
              "\n",
              "   Subcategory_2_0  Subcategory_2_1  Subcategory_2_2  Subcategory_2_3  \\\n",
              "0                0                0                0                0   \n",
              "1                0                0                0                0   \n",
              "2                0                0                0                0   \n",
              "3                0                0                0                0   \n",
              "4                0                0                0                0   \n",
              "\n",
              "   Subcategory_2_4  Subcategory_2_5  Subcategory_2_6  Subcategory_2_7  \\\n",
              "0                0                0                0                0   \n",
              "1                0                0                0                0   \n",
              "2                0                0                0                0   \n",
              "3                0                0                0                1   \n",
              "4                0                0                0                1   \n",
              "\n",
              "   Subcategory_2_8  Subcategory_2_9  PB_S1_0  PB_S1_1  PB_S1_2  PB_S1_3  \\\n",
              "0                0                1        0        0        0        0   \n",
              "1                1                0        0        0        0        0   \n",
              "2                1                1        0        0        0        0   \n",
              "3                0                0        0        0        0        0   \n",
              "4                0                1        0        0        0        0   \n",
              "\n",
              "   PB_S1_4  PB_S1_5  PB_S1_6  PB_S1_7  PB_S1_8  PB_S1_9  PB_S1_10  PB_S1_11  \\\n",
              "0        0        0        0        0        0        0         0         1   \n",
              "1        0        0        0        0        0        0         1         0   \n",
              "2        0        0        0        0        0        0         1         1   \n",
              "3        0        0        0        0        0        1         0         0   \n",
              "4        0        0        0        0        0        1         0         1   \n",
              "\n",
              "   PB_S2_0  PB_S2_1  PB_S2_2  PB_S2_3  PB_S2_4  PB_S2_5  PB_S2_6  PB_S2_7  \\\n",
              "0        0        0        0        0        0        0        0        0   \n",
              "1        0        0        0        0        0        0        0        0   \n",
              "2        0        0        0        0        0        0        0        0   \n",
              "3        0        0        0        0        0        0        0        0   \n",
              "4        0        0        0        0        0        0        0        0   \n",
              "\n",
              "   PB_S2_8  PB_S2_9  PB_S2_10  PB_S2_11  IC_S2_0  IC_S2_1  IC_S2_2  IC_S2_3  \\\n",
              "0        0        0         0         1        0        0        0        0   \n",
              "1        0        0         1         0        0        0        0        0   \n",
              "2        0        0         1         1        0        0        0        0   \n",
              "3        0        1         0         0        0        0        0        0   \n",
              "4        0        1         0         1        0        0        0        0   \n",
              "\n",
              "   IC_S2_4  IC_S2_5  IC_S2_6  IC_S2_7  IC_S2_8  IC_S2_9  \n",
              "0        0        0        0        0        0        1  \n",
              "1        0        0        0        0        1        0  \n",
              "2        0        0        0        0        1        1  \n",
              "3        0        0        0        1        0        0  \n",
              "4        0        0        0        1        0        1  "
            ]
          },
          "metadata": {
            "tags": []
          },
          "execution_count": 45
        }
      ]
    },
    {
      "cell_type": "markdown",
      "metadata": {
        "id": "XHfsTqmmMZig",
        "colab_type": "text"
      },
      "source": [
        "# We will use blending of models to get the correct results\n",
        "## Since we have log transformed target variable, calculating rmse will give rmsle"
      ]
    },
    {
      "cell_type": "code",
      "metadata": {
        "id": "ymGmtMc3owJx",
        "colab_type": "code",
        "colab": {}
      },
      "source": [
        "from sklearn.metrics import mean_squared_error\n",
        "from math import sqrt\n",
        "def rmse(y, y_pred):\n",
        "    return np.sqrt(mean_squared_error(y,y_pred))"
      ],
      "execution_count": null,
      "outputs": []
    },
    {
      "cell_type": "markdown",
      "metadata": {
        "id": "3K6Jc26VNClO",
        "colab_type": "text"
      },
      "source": [
        "# Kfolds cross Validation"
      ]
    },
    {
      "cell_type": "code",
      "metadata": {
        "id": "FdpeQQrDMRlA",
        "colab_type": "code",
        "colab": {
          "base_uri": "https://localhost:8080/",
          "height": 930
        },
        "outputId": "20fd5943-c74b-4f37-bd3d-e273337a57a9"
      },
      "source": [
        "from sklearn.ensemble import RandomForestRegressor\n",
        "from sklearn.model_selection import KFold\n",
        "err = []\n",
        "y_pred_tot_rf = []\n",
        "\n",
        "fold = KFold(n_splits=5, shuffle=True, random_state=2020)\n",
        "i = 1\n",
        "\n",
        "for train_index, test_index in fold.split(x, y):\n",
        "    x_train, x_val = x.iloc[train_index], x.iloc[test_index]\n",
        "    y_train, y_val = y.iloc[train_index], y.iloc[test_index]\n",
        "    m = RandomForestRegressor(bootstrap=True, max_features=0.45, min_samples_leaf=1, min_samples_split=5, n_estimators=100,random_state=42)\n",
        "    m.fit(x_train, y_train)\n",
        "    pred_y = m.predict(x_val)*0.999\n",
        "    pred_x=m.predict(x_train)\n",
        "    print(\"weight correction\")\n",
        "    W=[(0.990+(i/1000)) for i in range(20)]\n",
        "    S =[]\n",
        "    for w in W:\n",
        "        error = rmse(y_val,pred_y*w)\n",
        "        #print('RMSE for {:.3f}:{:.6f}'.format(w,error))\n",
        "        S.append(error)\n",
        "    Score = pd.Series(S,index=W)\n",
        "    Score.plot()\n",
        "    BS = Score[Score.values == Score.values.min()]\n",
        "    print ('Best weight for Score:{}'.format(BS))\n",
        "    print(i, \" err_rf: \",  rmse(y_val,pred_y))\n",
        "    print(i, \" err_rf: \",  rmse(y_train,pred_x))\n",
        "    err.append(rmse(y_val,pred_y))\n",
        "    pred_test = m.predict(test)\n",
        "    i = i + 1\n",
        "    y_pred_tot_rf.append(pred_test)\n",
        "(err[0]+err[1]+err[2]+err[3]+err[4])/5"
      ],
      "execution_count": null,
      "outputs": [
        {
          "output_type": "stream",
          "text": [
            "weight correction\n",
            "Best weight for Score:1.001    0.669671\n",
            "dtype: float64\n",
            "1  err_rf:  0.6697387477401261\n",
            "1  err_rf:  0.305986800585129\n",
            "weight correction\n",
            "Best weight for Score:0.998    0.594306\n",
            "dtype: float64\n",
            "2  err_rf:  0.5945255003617907\n",
            "2  err_rf:  0.3118941792251623\n",
            "weight correction\n",
            "Best weight for Score:0.996    0.635826\n",
            "dtype: float64\n",
            "3  err_rf:  0.6363017300663065\n",
            "3  err_rf:  0.3054299941096975\n",
            "weight correction\n",
            "Best weight for Score:1.0    0.66059\n",
            "dtype: float64\n",
            "4  err_rf:  0.66059049211793\n",
            "4  err_rf:  0.30374971533303746\n",
            "weight correction\n",
            "Best weight for Score:0.998    0.617574\n",
            "dtype: float64\n",
            "5  err_rf:  0.6177815808794338\n",
            "5  err_rf:  0.30565774007102625\n"
          ],
          "name": "stdout"
        },
        {
          "output_type": "execute_result",
          "data": {
            "text/plain": [
              "0.6357876102331175"
            ]
          },
          "metadata": {
            "tags": []
          },
          "execution_count": 47
        },
        {
          "output_type": "display_data",
          "data": {
            "image/png": "[encoded data removed]",
            "text/plain": [
              "<Figure size 1440x576 with 1 Axes>"
            ]
          },
          "metadata": {
            "tags": []
          }
        }
      ]
    },
    {
      "cell_type": "code",
      "metadata": {
        "id": "OMHPBotjPAgU",
        "colab_type": "code",
        "colab": {
          "base_uri": "https://localhost:8080/",
          "height": 930
        },
        "outputId": "8a879080-9dbd-482e-b32a-d702ea9f1b63"
      },
      "source": [
        "from sklearn.ensemble import RandomForestRegressor\n",
        "from sklearn.model_selection import KFold\n",
        "err = []\n",
        "y_pred_tot_rf = []\n",
        "\n",
        "fold = KFold(n_splits=5, shuffle=True, random_state=2020)\n",
        "i = 1\n",
        "\n",
        "for train_index, test_index in fold.split(x, y):\n",
        "    x_train, x_val = x.iloc[train_index], x.iloc[test_index]\n",
        "    y_train, y_val = y.iloc[train_index], y.iloc[test_index]\n",
        "    m = RandomForestRegressor(bootstrap=True, max_features=0.45, min_samples_leaf=1, min_samples_split=5, n_estimators=100,random_state=42)\n",
        "    m.fit(x_train, y_train)\n",
        "    pred_y = m.predict(x_val)\n",
        "    pred_x=m.predict(x_train)\n",
        "    print(\"weight correction\")\n",
        "    W=[(0.990+(i/1000)) for i in range(20)]\n",
        "    S =[]\n",
        "    for w in W:\n",
        "        error = rmse(y_val,pred_y*w)\n",
        "        #print('RMSE for {:.3f}:{:.6f}'.format(w,error))\n",
        "        S.append(error)\n",
        "    Score = pd.Series(S,index=W)\n",
        "    Score.plot()\n",
        "    BS = Score[Score.values == Score.values.min()]\n",
        "    print ('Best weight for Score:{}'.format(BS))\n",
        "    print(i, \" err_rf: \",  rmse(y_val,pred_y))\n",
        "    print(i, \" err_rf: \",  rmse(y_train,pred_x))\n",
        "    err.append(rmse(y_val,pred_y))\n",
        "    pred_test = m.predict(test)\n",
        "    i = i + 1\n",
        "    y_pred_tot_rf.append(pred_test)\n",
        "(err[0]+err[1]+err[2]+err[3]+err[4])/5"
      ],
      "execution_count": null,
      "outputs": [
        {
          "output_type": "stream",
          "text": [
            "weight correction\n",
            "Best weight for Score:1.0    0.66967\n",
            "dtype: float64\n",
            "1  err_rf:  0.6696704921272952\n",
            "1  err_rf:  0.305986800585129\n",
            "weight correction\n",
            "Best weight for Score:0.997    0.594306\n",
            "dtype: float64\n",
            "2  err_rf:  0.5947521184991782\n",
            "2  err_rf:  0.3118941792251623\n",
            "weight correction\n",
            "Best weight for Score:0.995    0.635826\n",
            "dtype: float64\n",
            "3  err_rf:  0.6365953241151141\n",
            "3  err_rf:  0.3054299941096975\n",
            "weight correction\n",
            "Best weight for Score:0.999    0.66059\n",
            "dtype: float64\n",
            "4  err_rf:  0.6605963708494823\n",
            "4  err_rf:  0.30374971533303746\n",
            "weight correction\n",
            "Best weight for Score:0.997    0.617574\n",
            "dtype: float64\n",
            "5  err_rf:  0.6179946848004321\n",
            "5  err_rf:  0.30565774007102625\n"
          ],
          "name": "stdout"
        },
        {
          "output_type": "execute_result",
          "data": {
            "text/plain": [
              "0.6359217980783004"
            ]
          },
          "metadata": {
            "tags": []
          },
          "execution_count": 48
        },
        {
          "output_type": "display_data",
          "data": {
            "image/png": "[encoded data removed]",
            "text/plain": [
              "<Figure size 1440x576 with 1 Axes>"
            ]
          },
          "metadata": {
            "tags": []
          }
        }
      ]
    },
    {
      "cell_type": "markdown",
      "metadata": {
        "id": "W1sxBX2zgLTf",
        "colab_type": "text"
      },
      "source": [
        "# Final Model on all Train Data on RandomForest"
      ]
    },
    {
      "cell_type": "code",
      "metadata": {
        "id": "Eqj_GkI0gJS9",
        "colab_type": "code",
        "colab": {}
      },
      "source": [
        "m = RandomForestRegressor(bootstrap=True, max_features=0.45, min_samples_leaf=1, min_samples_split=5, n_estimators=100,random_state=2020)\n",
        "m.fit(x,y)\n",
        "rfpred = m.predict(test)*0.999"
      ],
      "execution_count": null,
      "outputs": []
    },
    {
      "cell_type": "markdown",
      "metadata": {
        "id": "LoCvNq8iVDog",
        "colab_type": "text"
      },
      "source": [
        "# The second Model Is LGBM"
      ]
    },
    {
      "cell_type": "code",
      "metadata": {
        "id": "_XS5-jpdQ8US",
        "colab_type": "code",
        "colab": {
          "base_uri": "https://localhost:8080/",
          "height": 538
        },
        "outputId": "6b93a319-509d-4356-8c56-5890243c87b4"
      },
      "source": [
        "from lightgbm import LGBMRegressor\n",
        "err = []\n",
        "y_pred_tot_lgbm = []\n",
        "\n",
        "\n",
        "fold = KFold(n_splits=5, shuffle=True, random_state=2020)\n",
        "i = 1\n",
        "\n",
        "for train_index, test_index in fold.split(x, y):\n",
        "    x_train, x_val = x.iloc[train_index], x.iloc[test_index]\n",
        "    y_train, y_val = y.iloc[train_index], y.iloc[test_index]\n",
        "    m = LGBMRegressor(n_estimators=1000, num_leaves=127, max_depth=8,min_child_samples=4,\n",
        "                      learning_rate=0.02, colsample_bytree=0.4, reg_alpha=0.5, reg_lambda=2)\n",
        "    m.fit(x_train, y_train,eval_set=[(x_train,y_train),(x_val, y_val)],early_stopping_rounds=100,verbose=200,#eval_metric=rmsle(y_val,pred_y)\n",
        "         )\n",
        "    pred_y = m.predict(x_val)\n",
        "    print(i, \" err_lgbm: \",  rmse(y_val,pred_y))\n",
        "    err.append(rmse(y_val,pred_y))\n",
        "    pred_test = m.predict(test)\n",
        "    i = i + 1\n",
        "    y_pred_tot_lgbm.append(pred_test)\n",
        "sum(err)/5"
      ],
      "execution_count": null,
      "outputs": [
        {
          "output_type": "stream",
          "text": [
            "Training until validation scores don't improve for 100 rounds.\n",
            "[200]\ttraining's l2: 0.1365\tvalid_1's l2: 0.467297\n",
            "[400]\ttraining's l2: 0.0686272\tvalid_1's l2: 0.458806\n",
            "[600]\ttraining's l2: 0.0425214\tvalid_1's l2: 0.458379\n",
            "Early stopping, best iteration is:\n",
            "[510]\ttraining's l2: 0.0526054\tvalid_1's l2: 0.456796\n",
            "1  err_lgbm:  0.6758666259320405\n",
            "Training until validation scores don't improve for 100 rounds.\n",
            "[200]\ttraining's l2: 0.141631\tvalid_1's l2: 0.350407\n",
            "[400]\ttraining's l2: 0.0682722\tvalid_1's l2: 0.342649\n",
            "Early stopping, best iteration is:\n",
            "[374]\ttraining's l2: 0.0740112\tvalid_1's l2: 0.341812\n",
            "2  err_lgbm:  0.5846469476327886\n",
            "Training until validation scores don't improve for 100 rounds.\n",
            "[200]\ttraining's l2: 0.137388\tvalid_1's l2: 0.414744\n",
            "Early stopping, best iteration is:\n",
            "[260]\ttraining's l2: 0.104749\tvalid_1's l2: 0.411368\n",
            "3  err_lgbm:  0.6413801185480221\n",
            "Training until validation scores don't improve for 100 rounds.\n",
            "[200]\ttraining's l2: 0.133816\tvalid_1's l2: 0.434264\n",
            "[400]\ttraining's l2: 0.0626496\tvalid_1's l2: 0.425378\n",
            "Early stopping, best iteration is:\n",
            "[462]\ttraining's l2: 0.0523695\tvalid_1's l2: 0.424665\n",
            "4  err_lgbm:  0.6516630568943665\n",
            "Training until validation scores don't improve for 100 rounds.\n",
            "[200]\ttraining's l2: 0.136323\tvalid_1's l2: 0.393292\n",
            "[400]\ttraining's l2: 0.0638941\tvalid_1's l2: 0.384545\n",
            "Early stopping, best iteration is:\n",
            "[357]\ttraining's l2: 0.0725252\tvalid_1's l2: 0.383848\n",
            "5  err_lgbm:  0.6195550284464831\n"
          ],
          "name": "stdout"
        },
        {
          "output_type": "execute_result",
          "data": {
            "text/plain": [
              "0.6346223554907401"
            ]
          },
          "metadata": {
            "tags": []
          },
          "execution_count": 50
        }
      ]
    },
    {
      "cell_type": "markdown",
      "metadata": {
        "id": "46EcYXPqX7LZ",
        "colab_type": "text"
      },
      "source": [
        "# Final Model on All train data for LGBM"
      ]
    },
    {
      "cell_type": "code",
      "metadata": {
        "id": "GswqLcTbVI6K",
        "colab_type": "code",
        "colab": {}
      },
      "source": [
        "m = LGBMRegressor(n_estimators=325, num_leaves=127, max_depth=8,min_child_samples=4,\n",
        "                      learning_rate=0.02, colsample_bytree=0.4, reg_alpha=0.5, reg_lambda=2,random_state=2020)\n",
        "m.fit(x,y)\n",
        "lgbpred=m.predict(test)"
      ],
      "execution_count": null,
      "outputs": []
    },
    {
      "cell_type": "code",
      "metadata": {
        "id": "Uu7-Hcupec19",
        "colab_type": "code",
        "colab": {
          "base_uri": "https://localhost:8080/",
          "height": 195
        },
        "outputId": "3c16f63b-5017-49da-faaa-4338cdb0a4d5"
      },
      "source": [
        "Pedicted_dataset = pd.DataFrame({'lgbpred': list(lgbpred), 'rfpred': list(rfpred)}, columns=['lgbpred', 'rfpred'])\n",
        "Pedicted_dataset.head()"
      ],
      "execution_count": null,
      "outputs": [
        {
          "output_type": "execute_result",
          "data": {
            "text/html": [
              "<div>\n",
              "<style scoped>\n",
              "    .dataframe tbody tr th:only-of-type {\n",
              "        vertical-align: middle;\n",
              "    }\n",
              "\n",
              "    .dataframe tbody tr th {\n",
              "        vertical-align: top;\n",
              "    }\n",
              "\n",
              "    .dataframe thead th {\n",
              "        text-align: right;\n",
              "    }\n",
              "</style>\n",
              "<table border=\"1\" class=\"dataframe\">\n",
              "  <thead>\n",
              "    <tr style=\"text-align: right;\">\n",
              "      <th></th>\n",
              "      <th>lgbpred</th>\n",
              "      <th>rfpred</th>\n",
              "    </tr>\n",
              "  </thead>\n",
              "  <tbody>\n",
              "    <tr>\n",
              "      <th>0</th>\n",
              "      <td>7.418172</td>\n",
              "      <td>7.235288</td>\n",
              "    </tr>\n",
              "    <tr>\n",
              "      <th>1</th>\n",
              "      <td>6.172720</td>\n",
              "      <td>6.194167</td>\n",
              "    </tr>\n",
              "    <tr>\n",
              "      <th>2</th>\n",
              "      <td>6.633724</td>\n",
              "      <td>6.675236</td>\n",
              "    </tr>\n",
              "    <tr>\n",
              "      <th>3</th>\n",
              "      <td>5.986928</td>\n",
              "      <td>6.043803</td>\n",
              "    </tr>\n",
              "    <tr>\n",
              "      <th>4</th>\n",
              "      <td>6.603806</td>\n",
              "      <td>6.676571</td>\n",
              "    </tr>\n",
              "  </tbody>\n",
              "</table>\n",
              "</div>"
            ],
            "text/plain": [
              "    lgbpred    rfpred\n",
              "0  7.418172  7.235288\n",
              "1  6.172720  6.194167\n",
              "2  6.633724  6.675236\n",
              "3  5.986928  6.043803\n",
              "4  6.603806  6.676571"
            ]
          },
          "metadata": {
            "tags": []
          },
          "execution_count": 52
        }
      ]
    },
    {
      "cell_type": "code",
      "metadata": {
        "id": "Q6NA1wgwgxfX",
        "colab_type": "code",
        "colab": {}
      },
      "source": [
        "Pedicted_dataset['Averageof2converted'] = np.exp(0.45*Pedicted_dataset['lgbpred']+0.55*Pedicted_dataset['rfpred'])"
      ],
      "execution_count": null,
      "outputs": []
    },
    {
      "cell_type": "code",
      "metadata": {
        "id": "-4U9nWa6gCVA",
        "colab_type": "code",
        "colab": {
          "base_uri": "https://localhost:8080/",
          "height": 195
        },
        "outputId": "38e81507-2ddd-4a28-fd18-9d361714d3b4"
      },
      "source": [
        "Pedicted_dataset.head()"
      ],
      "execution_count": null,
      "outputs": [
        {
          "output_type": "execute_result",
          "data": {
            "text/html": [
              "<div>\n",
              "<style scoped>\n",
              "    .dataframe tbody tr th:only-of-type {\n",
              "        vertical-align: middle;\n",
              "    }\n",
              "\n",
              "    .dataframe tbody tr th {\n",
              "        vertical-align: top;\n",
              "    }\n",
              "\n",
              "    .dataframe thead th {\n",
              "        text-align: right;\n",
              "    }\n",
              "</style>\n",
              "<table border=\"1\" class=\"dataframe\">\n",
              "  <thead>\n",
              "    <tr style=\"text-align: right;\">\n",
              "      <th></th>\n",
              "      <th>lgbpred</th>\n",
              "      <th>rfpred</th>\n",
              "      <th>Averageof2converted</th>\n",
              "    </tr>\n",
              "  </thead>\n",
              "  <tbody>\n",
              "    <tr>\n",
              "      <th>0</th>\n",
              "      <td>7.418172</td>\n",
              "      <td>7.235288</td>\n",
              "      <td>1506.562469</td>\n",
              "    </tr>\n",
              "    <tr>\n",
              "      <th>1</th>\n",
              "      <td>6.172720</td>\n",
              "      <td>6.194167</td>\n",
              "      <td>485.177923</td>\n",
              "    </tr>\n",
              "    <tr>\n",
              "      <th>2</th>\n",
              "      <td>6.633724</td>\n",
              "      <td>6.675236</td>\n",
              "      <td>777.867073</td>\n",
              "    </tr>\n",
              "    <tr>\n",
              "      <th>3</th>\n",
              "      <td>5.986928</td>\n",
              "      <td>6.043803</td>\n",
              "      <td>410.842178</td>\n",
              "    </tr>\n",
              "    <tr>\n",
              "      <th>4</th>\n",
              "      <td>6.603806</td>\n",
              "      <td>6.676571</td>\n",
              "      <td>768.028460</td>\n",
              "    </tr>\n",
              "  </tbody>\n",
              "</table>\n",
              "</div>"
            ],
            "text/plain": [
              "    lgbpred    rfpred  Averageof2converted\n",
              "0  7.418172  7.235288          1506.562469\n",
              "1  6.172720  6.194167           485.177923\n",
              "2  6.633724  6.675236           777.867073\n",
              "3  5.986928  6.043803           410.842178\n",
              "4  6.603806  6.676571           768.028460"
            ]
          },
          "metadata": {
            "tags": []
          },
          "execution_count": 54
        }
      ]
    },
    {
      "cell_type": "code",
      "metadata": {
        "id": "l89OZ5AKhjuS",
        "colab_type": "code",
        "colab": {}
      },
      "source": [
        "final_submission['Selling_Price'] = Pedicted_dataset['Averageof2converted']"
      ],
      "execution_count": null,
      "outputs": []
    },
    {
      "cell_type": "code",
      "metadata": {
        "id": "aTfqtckYhkUM",
        "colab_type": "code",
        "colab": {
          "base_uri": "https://localhost:8080/",
          "height": 195
        },
        "outputId": "c85c0cba-51cd-42e3-a726-e3b015cb8b0a"
      },
      "source": [
        "final_submission.head()"
      ],
      "execution_count": null,
      "outputs": [
        {
          "output_type": "execute_result",
          "data": {
            "text/html": [
              "<div>\n",
              "<style scoped>\n",
              "    .dataframe tbody tr th:only-of-type {\n",
              "        vertical-align: middle;\n",
              "    }\n",
              "\n",
              "    .dataframe tbody tr th {\n",
              "        vertical-align: top;\n",
              "    }\n",
              "\n",
              "    .dataframe thead th {\n",
              "        text-align: right;\n",
              "    }\n",
              "</style>\n",
              "<table border=\"1\" class=\"dataframe\">\n",
              "  <thead>\n",
              "    <tr style=\"text-align: right;\">\n",
              "      <th></th>\n",
              "      <th>Selling_Price</th>\n",
              "    </tr>\n",
              "  </thead>\n",
              "  <tbody>\n",
              "    <tr>\n",
              "      <th>0</th>\n",
              "      <td>1506.562469</td>\n",
              "    </tr>\n",
              "    <tr>\n",
              "      <th>1</th>\n",
              "      <td>485.177923</td>\n",
              "    </tr>\n",
              "    <tr>\n",
              "      <th>2</th>\n",
              "      <td>777.867073</td>\n",
              "    </tr>\n",
              "    <tr>\n",
              "      <th>3</th>\n",
              "      <td>410.842178</td>\n",
              "    </tr>\n",
              "    <tr>\n",
              "      <th>4</th>\n",
              "      <td>768.028460</td>\n",
              "    </tr>\n",
              "  </tbody>\n",
              "</table>\n",
              "</div>"
            ],
            "text/plain": [
              "   Selling_Price\n",
              "0    1506.562469\n",
              "1     485.177923\n",
              "2     777.867073\n",
              "3     410.842178\n",
              "4     768.028460"
            ]
          },
          "metadata": {
            "tags": []
          },
          "execution_count": 56
        }
      ]
    },
    {
      "cell_type": "markdown",
      "metadata": {
        "id": "blTOj_jkbjSd",
        "colab_type": "text"
      },
      "source": [
        "# Cross Validating Blending Accuracy"
      ]
    },
    {
      "cell_type": "code",
      "metadata": {
        "id": "tTcYm0HIbjCL",
        "colab_type": "code",
        "colab": {
          "base_uri": "https://localhost:8080/",
          "height": 118
        },
        "outputId": "3bfc7700-c7ea-46b1-f650-1126b2603739"
      },
      "source": [
        "from sklearn.ensemble import RandomForestRegressor\n",
        "err = []\n",
        "y_pred_tot_xgb = []\n",
        "\n",
        "fold = KFold(n_splits=5, shuffle=True, random_state=2020)\n",
        "i = 1\n",
        "\n",
        "for train_index, test_index in fold.split(x, y):\n",
        "    x_train, x_val = x.iloc[train_index], x.iloc[test_index]\n",
        "    y_train, y_val = y.iloc[train_index], y.iloc[test_index]\n",
        "    \n",
        "    m = RandomForestRegressor(bootstrap=True, max_features=0.45, min_samples_leaf=1, min_samples_split=5, n_estimators=100,random_state=2020)\n",
        "    m.fit(x_train, y_train)\n",
        "    rfpred = m.predict(x_val)*0.999\n",
        "    \n",
        "    m = LGBMRegressor(n_estimators=442, num_leaves=127, max_depth=8,min_child_samples=4,\n",
        "                      learning_rate=0.02, colsample_bytree=0.4, reg_alpha=0.5, reg_lambda=2,random_state=2020)\n",
        "    m.fit(x_train, y_train)\n",
        "    lgbpred=m.predict(x_val)*0.999\n",
        "    average=0.55*rfpred+0.45*lgbpred\n",
        "    \n",
        "    print(i, \" err_xgb: \",  rmse(y_val,average))\n",
        "    err.append(rmse(y_val,average))\n",
        "    #pred_test = m.predict(test)\n",
        "    i = i + 1\n",
        "    #y_pred_tot_xgb.append(pred_test)\n",
        "(err[0]+err[1]+err[2]+err[3]+err[4])/5"
      ],
      "execution_count": null,
      "outputs": [
        {
          "output_type": "stream",
          "text": [
            "1  err_xgb:  0.6709096481414472\n",
            "2  err_xgb:  0.5894646245770954\n",
            "3  err_xgb:  0.6390411837422934\n",
            "4  err_xgb:  0.6510106634434962\n",
            "5  err_xgb:  0.6178541302817465\n"
          ],
          "name": "stdout"
        },
        {
          "output_type": "execute_result",
          "data": {
            "text/plain": [
              "0.6336560500372157"
            ]
          },
          "metadata": {
            "tags": []
          },
          "execution_count": 57
        }
      ]
    },
    {
      "cell_type": "code",
      "metadata": {
        "id": "GbwQJatodshL",
        "colab_type": "code",
        "colab": {}
      },
      "source": [
        "# final_submission.to_csv(datapath + '/Final_Sub_Blended.csv',index=False)\n",
        "# final_submission.to_excel(datapath + '/Final_Sub_Blended.xlsx',index=False)"
      ],
      "execution_count": null,
      "outputs": []
    },
    {
      "cell_type": "code",
      "metadata": {
        "id": "VWG4dKivheB4",
        "colab_type": "code",
        "colab": {}
      },
      "source": [
        "################################################ Thank You ##########################################################"
      ],
      "execution_count": null,
      "outputs": []
    }
  ]
}